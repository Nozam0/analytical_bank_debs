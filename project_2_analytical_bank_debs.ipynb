{
 "cells": [
  {
   "cell_type": "markdown",
   "metadata": {},
   "source": [
    "# Análisis del riesgo de incumplimiento de los prestatarios\n",
    "\n",
    "Preparar un informe para la división de préstamos de un banco. Deberás averiguar si el estado civil y el número de hijos de un cliente tienen un impacto en el incumplimiento de pago de un préstamo. El banco ya tiene algunos datos sobre la solvencia crediticia de los clientes.\n",
    "\n",
    "El informe tendrá en cuenta al crear una **puntuación de crédito** para un cliente potencial. La **puntuación de crédito** se utiliza para evaluar la capacidad de un prestatario potencial para pagar su préstamo.\n",
    "\n",
    "## Propósito del proyecto\n",
    "\n",
    "- Evaluar el status quo de los clientes de un banco para encontrar clientes potenciales a recibir préstamos por parte del banco.\n",
    "- Clasificar a los clientes potenciales a recibir un préstamo bancario como `candidato`, `probable candidato` y `no es candidato` con respecto a la probabilidad que tienen de pagarlo.\n",
    "\n",
    "## Hipótesis\n",
    "\n",
    "- Evaluar si el estado civil de un cliente es estadísticamente significativo en el incumplimiento de pago de un préstamo.\n",
    "- Evaluar si el número de hijos de un cliente es estadísticamente significativo en el incumplimiento de pago de un préstamo.\n",
    "- Evaluar si el propósito de préstamos de un cliente es estadísticamente significativo en el incumplimiento de pago de un préstamo.\n",
    "\n",
    "## Información general."
   ]
  },
  {
   "cell_type": "code",
   "execution_count": 2,
   "metadata": {},
   "outputs": [],
   "source": [
    "import pandas as pd\n",
    "\n",
    "try:\n",
    "    data_bank = pd.read_csv('moved_credit_scoring_eng.csv')\n",
    "except:\n",
    "    data_bank = pd.read_csv('/datasets/credit_scoring_eng.csv')"
   ]
  },
  {
   "cell_type": "code",
   "execution_count": 3,
   "metadata": {},
   "outputs": [
    {
     "data": {
      "text/html": [
       "<div>\n",
       "<style scoped>\n",
       "    .dataframe tbody tr th:only-of-type {\n",
       "        vertical-align: middle;\n",
       "    }\n",
       "\n",
       "    .dataframe tbody tr th {\n",
       "        vertical-align: top;\n",
       "    }\n",
       "\n",
       "    .dataframe thead th {\n",
       "        text-align: right;\n",
       "    }\n",
       "</style>\n",
       "<table border=\"1\" class=\"dataframe\">\n",
       "  <thead>\n",
       "    <tr style=\"text-align: right;\">\n",
       "      <th></th>\n",
       "      <th>children</th>\n",
       "      <th>days_employed</th>\n",
       "      <th>dob_years</th>\n",
       "      <th>education</th>\n",
       "      <th>education_id</th>\n",
       "      <th>family_status</th>\n",
       "      <th>family_status_id</th>\n",
       "      <th>gender</th>\n",
       "      <th>income_type</th>\n",
       "      <th>debt</th>\n",
       "      <th>total_income</th>\n",
       "      <th>purpose</th>\n",
       "    </tr>\n",
       "  </thead>\n",
       "  <tbody>\n",
       "    <tr>\n",
       "      <th>0</th>\n",
       "      <td>1</td>\n",
       "      <td>-8437.673028</td>\n",
       "      <td>42</td>\n",
       "      <td>bachelor's degree</td>\n",
       "      <td>0</td>\n",
       "      <td>married</td>\n",
       "      <td>0</td>\n",
       "      <td>F</td>\n",
       "      <td>employee</td>\n",
       "      <td>0</td>\n",
       "      <td>40620.102</td>\n",
       "      <td>purchase of the house</td>\n",
       "    </tr>\n",
       "    <tr>\n",
       "      <th>1</th>\n",
       "      <td>1</td>\n",
       "      <td>-4024.803754</td>\n",
       "      <td>36</td>\n",
       "      <td>secondary education</td>\n",
       "      <td>1</td>\n",
       "      <td>married</td>\n",
       "      <td>0</td>\n",
       "      <td>F</td>\n",
       "      <td>employee</td>\n",
       "      <td>0</td>\n",
       "      <td>17932.802</td>\n",
       "      <td>car purchase</td>\n",
       "    </tr>\n",
       "    <tr>\n",
       "      <th>2</th>\n",
       "      <td>0</td>\n",
       "      <td>-5623.422610</td>\n",
       "      <td>33</td>\n",
       "      <td>Secondary Education</td>\n",
       "      <td>1</td>\n",
       "      <td>married</td>\n",
       "      <td>0</td>\n",
       "      <td>M</td>\n",
       "      <td>employee</td>\n",
       "      <td>0</td>\n",
       "      <td>23341.752</td>\n",
       "      <td>purchase of the house</td>\n",
       "    </tr>\n",
       "    <tr>\n",
       "      <th>3</th>\n",
       "      <td>3</td>\n",
       "      <td>-4124.747207</td>\n",
       "      <td>32</td>\n",
       "      <td>secondary education</td>\n",
       "      <td>1</td>\n",
       "      <td>married</td>\n",
       "      <td>0</td>\n",
       "      <td>M</td>\n",
       "      <td>employee</td>\n",
       "      <td>0</td>\n",
       "      <td>42820.568</td>\n",
       "      <td>supplementary education</td>\n",
       "    </tr>\n",
       "    <tr>\n",
       "      <th>4</th>\n",
       "      <td>0</td>\n",
       "      <td>340266.072047</td>\n",
       "      <td>53</td>\n",
       "      <td>secondary education</td>\n",
       "      <td>1</td>\n",
       "      <td>civil partnership</td>\n",
       "      <td>1</td>\n",
       "      <td>F</td>\n",
       "      <td>retiree</td>\n",
       "      <td>0</td>\n",
       "      <td>25378.572</td>\n",
       "      <td>to have a wedding</td>\n",
       "    </tr>\n",
       "    <tr>\n",
       "      <th>5</th>\n",
       "      <td>0</td>\n",
       "      <td>-926.185831</td>\n",
       "      <td>27</td>\n",
       "      <td>bachelor's degree</td>\n",
       "      <td>0</td>\n",
       "      <td>civil partnership</td>\n",
       "      <td>1</td>\n",
       "      <td>M</td>\n",
       "      <td>business</td>\n",
       "      <td>0</td>\n",
       "      <td>40922.170</td>\n",
       "      <td>purchase of the house</td>\n",
       "    </tr>\n",
       "    <tr>\n",
       "      <th>6</th>\n",
       "      <td>0</td>\n",
       "      <td>-2879.202052</td>\n",
       "      <td>43</td>\n",
       "      <td>bachelor's degree</td>\n",
       "      <td>0</td>\n",
       "      <td>married</td>\n",
       "      <td>0</td>\n",
       "      <td>F</td>\n",
       "      <td>business</td>\n",
       "      <td>0</td>\n",
       "      <td>38484.156</td>\n",
       "      <td>housing transactions</td>\n",
       "    </tr>\n",
       "    <tr>\n",
       "      <th>7</th>\n",
       "      <td>0</td>\n",
       "      <td>-152.779569</td>\n",
       "      <td>50</td>\n",
       "      <td>SECONDARY EDUCATION</td>\n",
       "      <td>1</td>\n",
       "      <td>married</td>\n",
       "      <td>0</td>\n",
       "      <td>M</td>\n",
       "      <td>employee</td>\n",
       "      <td>0</td>\n",
       "      <td>21731.829</td>\n",
       "      <td>education</td>\n",
       "    </tr>\n",
       "    <tr>\n",
       "      <th>8</th>\n",
       "      <td>2</td>\n",
       "      <td>-6929.865299</td>\n",
       "      <td>35</td>\n",
       "      <td>BACHELOR'S DEGREE</td>\n",
       "      <td>0</td>\n",
       "      <td>civil partnership</td>\n",
       "      <td>1</td>\n",
       "      <td>F</td>\n",
       "      <td>employee</td>\n",
       "      <td>0</td>\n",
       "      <td>15337.093</td>\n",
       "      <td>having a wedding</td>\n",
       "    </tr>\n",
       "    <tr>\n",
       "      <th>9</th>\n",
       "      <td>0</td>\n",
       "      <td>-2188.756445</td>\n",
       "      <td>41</td>\n",
       "      <td>secondary education</td>\n",
       "      <td>1</td>\n",
       "      <td>married</td>\n",
       "      <td>0</td>\n",
       "      <td>M</td>\n",
       "      <td>employee</td>\n",
       "      <td>0</td>\n",
       "      <td>23108.150</td>\n",
       "      <td>purchase of the house for my family</td>\n",
       "    </tr>\n",
       "    <tr>\n",
       "      <th>10</th>\n",
       "      <td>2</td>\n",
       "      <td>-4171.483647</td>\n",
       "      <td>36</td>\n",
       "      <td>bachelor's degree</td>\n",
       "      <td>0</td>\n",
       "      <td>married</td>\n",
       "      <td>0</td>\n",
       "      <td>M</td>\n",
       "      <td>business</td>\n",
       "      <td>0</td>\n",
       "      <td>18230.959</td>\n",
       "      <td>buy real estate</td>\n",
       "    </tr>\n",
       "    <tr>\n",
       "      <th>11</th>\n",
       "      <td>0</td>\n",
       "      <td>-792.701887</td>\n",
       "      <td>40</td>\n",
       "      <td>secondary education</td>\n",
       "      <td>1</td>\n",
       "      <td>married</td>\n",
       "      <td>0</td>\n",
       "      <td>F</td>\n",
       "      <td>employee</td>\n",
       "      <td>0</td>\n",
       "      <td>12331.077</td>\n",
       "      <td>buy commercial real estate</td>\n",
       "    </tr>\n",
       "    <tr>\n",
       "      <th>12</th>\n",
       "      <td>0</td>\n",
       "      <td>NaN</td>\n",
       "      <td>65</td>\n",
       "      <td>secondary education</td>\n",
       "      <td>1</td>\n",
       "      <td>civil partnership</td>\n",
       "      <td>1</td>\n",
       "      <td>M</td>\n",
       "      <td>retiree</td>\n",
       "      <td>0</td>\n",
       "      <td>NaN</td>\n",
       "      <td>to have a wedding</td>\n",
       "    </tr>\n",
       "    <tr>\n",
       "      <th>13</th>\n",
       "      <td>0</td>\n",
       "      <td>-1846.641941</td>\n",
       "      <td>54</td>\n",
       "      <td>some college</td>\n",
       "      <td>2</td>\n",
       "      <td>married</td>\n",
       "      <td>0</td>\n",
       "      <td>F</td>\n",
       "      <td>employee</td>\n",
       "      <td>0</td>\n",
       "      <td>20873.317</td>\n",
       "      <td>car purchase</td>\n",
       "    </tr>\n",
       "    <tr>\n",
       "      <th>14</th>\n",
       "      <td>0</td>\n",
       "      <td>-1844.956182</td>\n",
       "      <td>56</td>\n",
       "      <td>bachelor's degree</td>\n",
       "      <td>0</td>\n",
       "      <td>civil partnership</td>\n",
       "      <td>1</td>\n",
       "      <td>F</td>\n",
       "      <td>business</td>\n",
       "      <td>1</td>\n",
       "      <td>26420.466</td>\n",
       "      <td>buy residential real estate</td>\n",
       "    </tr>\n",
       "    <tr>\n",
       "      <th>15</th>\n",
       "      <td>1</td>\n",
       "      <td>-972.364419</td>\n",
       "      <td>26</td>\n",
       "      <td>secondary education</td>\n",
       "      <td>1</td>\n",
       "      <td>married</td>\n",
       "      <td>0</td>\n",
       "      <td>F</td>\n",
       "      <td>employee</td>\n",
       "      <td>0</td>\n",
       "      <td>18691.345</td>\n",
       "      <td>construction of own property</td>\n",
       "    </tr>\n",
       "    <tr>\n",
       "      <th>16</th>\n",
       "      <td>0</td>\n",
       "      <td>-1719.934226</td>\n",
       "      <td>35</td>\n",
       "      <td>secondary education</td>\n",
       "      <td>1</td>\n",
       "      <td>married</td>\n",
       "      <td>0</td>\n",
       "      <td>F</td>\n",
       "      <td>employee</td>\n",
       "      <td>0</td>\n",
       "      <td>46272.433</td>\n",
       "      <td>property</td>\n",
       "    </tr>\n",
       "    <tr>\n",
       "      <th>17</th>\n",
       "      <td>0</td>\n",
       "      <td>-2369.999720</td>\n",
       "      <td>33</td>\n",
       "      <td>bachelor's degree</td>\n",
       "      <td>0</td>\n",
       "      <td>civil partnership</td>\n",
       "      <td>1</td>\n",
       "      <td>M</td>\n",
       "      <td>employee</td>\n",
       "      <td>0</td>\n",
       "      <td>14465.694</td>\n",
       "      <td>building a property</td>\n",
       "    </tr>\n",
       "    <tr>\n",
       "      <th>18</th>\n",
       "      <td>0</td>\n",
       "      <td>400281.136913</td>\n",
       "      <td>53</td>\n",
       "      <td>secondary education</td>\n",
       "      <td>1</td>\n",
       "      <td>widow / widower</td>\n",
       "      <td>2</td>\n",
       "      <td>F</td>\n",
       "      <td>retiree</td>\n",
       "      <td>0</td>\n",
       "      <td>9091.804</td>\n",
       "      <td>buying a second-hand car</td>\n",
       "    </tr>\n",
       "    <tr>\n",
       "      <th>19</th>\n",
       "      <td>0</td>\n",
       "      <td>-10038.818549</td>\n",
       "      <td>48</td>\n",
       "      <td>SECONDARY EDUCATION</td>\n",
       "      <td>1</td>\n",
       "      <td>divorced</td>\n",
       "      <td>3</td>\n",
       "      <td>F</td>\n",
       "      <td>employee</td>\n",
       "      <td>0</td>\n",
       "      <td>38852.977</td>\n",
       "      <td>buying my own car</td>\n",
       "    </tr>\n",
       "  </tbody>\n",
       "</table>\n",
       "</div>"
      ],
      "text/plain": [
       "    children  days_employed  dob_years            education  education_id  \\\n",
       "0          1   -8437.673028         42    bachelor's degree             0   \n",
       "1          1   -4024.803754         36  secondary education             1   \n",
       "2          0   -5623.422610         33  Secondary Education             1   \n",
       "3          3   -4124.747207         32  secondary education             1   \n",
       "4          0  340266.072047         53  secondary education             1   \n",
       "5          0    -926.185831         27    bachelor's degree             0   \n",
       "6          0   -2879.202052         43    bachelor's degree             0   \n",
       "7          0    -152.779569         50  SECONDARY EDUCATION             1   \n",
       "8          2   -6929.865299         35    BACHELOR'S DEGREE             0   \n",
       "9          0   -2188.756445         41  secondary education             1   \n",
       "10         2   -4171.483647         36    bachelor's degree             0   \n",
       "11         0    -792.701887         40  secondary education             1   \n",
       "12         0            NaN         65  secondary education             1   \n",
       "13         0   -1846.641941         54         some college             2   \n",
       "14         0   -1844.956182         56    bachelor's degree             0   \n",
       "15         1    -972.364419         26  secondary education             1   \n",
       "16         0   -1719.934226         35  secondary education             1   \n",
       "17         0   -2369.999720         33    bachelor's degree             0   \n",
       "18         0  400281.136913         53  secondary education             1   \n",
       "19         0  -10038.818549         48  SECONDARY EDUCATION             1   \n",
       "\n",
       "        family_status  family_status_id gender income_type  debt  \\\n",
       "0             married                 0      F    employee     0   \n",
       "1             married                 0      F    employee     0   \n",
       "2             married                 0      M    employee     0   \n",
       "3             married                 0      M    employee     0   \n",
       "4   civil partnership                 1      F     retiree     0   \n",
       "5   civil partnership                 1      M    business     0   \n",
       "6             married                 0      F    business     0   \n",
       "7             married                 0      M    employee     0   \n",
       "8   civil partnership                 1      F    employee     0   \n",
       "9             married                 0      M    employee     0   \n",
       "10            married                 0      M    business     0   \n",
       "11            married                 0      F    employee     0   \n",
       "12  civil partnership                 1      M     retiree     0   \n",
       "13            married                 0      F    employee     0   \n",
       "14  civil partnership                 1      F    business     1   \n",
       "15            married                 0      F    employee     0   \n",
       "16            married                 0      F    employee     0   \n",
       "17  civil partnership                 1      M    employee     0   \n",
       "18    widow / widower                 2      F     retiree     0   \n",
       "19           divorced                 3      F    employee     0   \n",
       "\n",
       "    total_income                              purpose  \n",
       "0      40620.102                purchase of the house  \n",
       "1      17932.802                         car purchase  \n",
       "2      23341.752                purchase of the house  \n",
       "3      42820.568              supplementary education  \n",
       "4      25378.572                    to have a wedding  \n",
       "5      40922.170                purchase of the house  \n",
       "6      38484.156                 housing transactions  \n",
       "7      21731.829                            education  \n",
       "8      15337.093                     having a wedding  \n",
       "9      23108.150  purchase of the house for my family  \n",
       "10     18230.959                      buy real estate  \n",
       "11     12331.077           buy commercial real estate  \n",
       "12           NaN                    to have a wedding  \n",
       "13     20873.317                         car purchase  \n",
       "14     26420.466          buy residential real estate  \n",
       "15     18691.345         construction of own property  \n",
       "16     46272.433                             property  \n",
       "17     14465.694                  building a property  \n",
       "18      9091.804             buying a second-hand car  \n",
       "19     38852.977                    buying my own car  "
      ]
     },
     "execution_count": 3,
     "metadata": {},
     "output_type": "execute_result"
    }
   ],
   "source": [
    "data_bank.head(20)"
   ]
  },
  {
   "cell_type": "markdown",
   "metadata": {},
   "source": [
    "## Exploración de datos\n",
    "\n",
    "**Descripción de los datos**\n",
    "- `children` - el número de hijos en la familia\n",
    "- `days_employed` - experiencia laboral en días\n",
    "- `dob_years` - la edad del cliente en años\n",
    "- `education` - la educación del cliente\n",
    "- `education_id` - identificador de educación\n",
    "- `family_status` - estado civil\n",
    "- `family_status_id` - identificador de estado civil\n",
    "- `gender` - género del cliente\n",
    "- `income_type` - tipo de empleo\n",
    "- `debt` - ¿había alguna deuda en el pago de un préstamo?\n",
    "- `total_income` - ingreso mensual\n",
    "- `purpose` - el propósito de obtener un préstamo"
   ]
  },
  {
   "cell_type": "code",
   "execution_count": 4,
   "metadata": {},
   "outputs": [
    {
     "name": "stdout",
     "output_type": "stream",
     "text": [
      "Data Frame tiene 21525 filas y 12 columnas\n"
     ]
    }
   ],
   "source": [
    "# Vamos a ver cuántas filas y columnas tiene nuestro conjunto de datos\n",
    "rows = len(data_bank.axes[0])\n",
    "cols = len(data_bank.axes[1])\n",
    "print(f'Data Frame tiene {rows} filas y {cols} columnas')"
   ]
  },
  {
   "cell_type": "code",
   "execution_count": 5,
   "metadata": {
    "scrolled": true
   },
   "outputs": [
    {
     "data": {
      "text/html": [
       "<div>\n",
       "<style scoped>\n",
       "    .dataframe tbody tr th:only-of-type {\n",
       "        vertical-align: middle;\n",
       "    }\n",
       "\n",
       "    .dataframe tbody tr th {\n",
       "        vertical-align: top;\n",
       "    }\n",
       "\n",
       "    .dataframe thead th {\n",
       "        text-align: right;\n",
       "    }\n",
       "</style>\n",
       "<table border=\"1\" class=\"dataframe\">\n",
       "  <thead>\n",
       "    <tr style=\"text-align: right;\">\n",
       "      <th></th>\n",
       "      <th>children</th>\n",
       "      <th>days_employed</th>\n",
       "      <th>dob_years</th>\n",
       "      <th>education</th>\n",
       "      <th>education_id</th>\n",
       "      <th>family_status</th>\n",
       "      <th>family_status_id</th>\n",
       "      <th>gender</th>\n",
       "      <th>income_type</th>\n",
       "      <th>debt</th>\n",
       "      <th>total_income</th>\n",
       "      <th>purpose</th>\n",
       "    </tr>\n",
       "  </thead>\n",
       "  <tbody>\n",
       "    <tr>\n",
       "      <th>0</th>\n",
       "      <td>1</td>\n",
       "      <td>-8437.673028</td>\n",
       "      <td>42</td>\n",
       "      <td>bachelor's degree</td>\n",
       "      <td>0</td>\n",
       "      <td>married</td>\n",
       "      <td>0</td>\n",
       "      <td>F</td>\n",
       "      <td>employee</td>\n",
       "      <td>0</td>\n",
       "      <td>40620.102</td>\n",
       "      <td>purchase of the house</td>\n",
       "    </tr>\n",
       "    <tr>\n",
       "      <th>1</th>\n",
       "      <td>1</td>\n",
       "      <td>-4024.803754</td>\n",
       "      <td>36</td>\n",
       "      <td>secondary education</td>\n",
       "      <td>1</td>\n",
       "      <td>married</td>\n",
       "      <td>0</td>\n",
       "      <td>F</td>\n",
       "      <td>employee</td>\n",
       "      <td>0</td>\n",
       "      <td>17932.802</td>\n",
       "      <td>car purchase</td>\n",
       "    </tr>\n",
       "    <tr>\n",
       "      <th>2</th>\n",
       "      <td>0</td>\n",
       "      <td>-5623.422610</td>\n",
       "      <td>33</td>\n",
       "      <td>Secondary Education</td>\n",
       "      <td>1</td>\n",
       "      <td>married</td>\n",
       "      <td>0</td>\n",
       "      <td>M</td>\n",
       "      <td>employee</td>\n",
       "      <td>0</td>\n",
       "      <td>23341.752</td>\n",
       "      <td>purchase of the house</td>\n",
       "    </tr>\n",
       "    <tr>\n",
       "      <th>3</th>\n",
       "      <td>3</td>\n",
       "      <td>-4124.747207</td>\n",
       "      <td>32</td>\n",
       "      <td>secondary education</td>\n",
       "      <td>1</td>\n",
       "      <td>married</td>\n",
       "      <td>0</td>\n",
       "      <td>M</td>\n",
       "      <td>employee</td>\n",
       "      <td>0</td>\n",
       "      <td>42820.568</td>\n",
       "      <td>supplementary education</td>\n",
       "    </tr>\n",
       "    <tr>\n",
       "      <th>4</th>\n",
       "      <td>0</td>\n",
       "      <td>340266.072047</td>\n",
       "      <td>53</td>\n",
       "      <td>secondary education</td>\n",
       "      <td>1</td>\n",
       "      <td>civil partnership</td>\n",
       "      <td>1</td>\n",
       "      <td>F</td>\n",
       "      <td>retiree</td>\n",
       "      <td>0</td>\n",
       "      <td>25378.572</td>\n",
       "      <td>to have a wedding</td>\n",
       "    </tr>\n",
       "    <tr>\n",
       "      <th>5</th>\n",
       "      <td>0</td>\n",
       "      <td>-926.185831</td>\n",
       "      <td>27</td>\n",
       "      <td>bachelor's degree</td>\n",
       "      <td>0</td>\n",
       "      <td>civil partnership</td>\n",
       "      <td>1</td>\n",
       "      <td>M</td>\n",
       "      <td>business</td>\n",
       "      <td>0</td>\n",
       "      <td>40922.170</td>\n",
       "      <td>purchase of the house</td>\n",
       "    </tr>\n",
       "    <tr>\n",
       "      <th>6</th>\n",
       "      <td>0</td>\n",
       "      <td>-2879.202052</td>\n",
       "      <td>43</td>\n",
       "      <td>bachelor's degree</td>\n",
       "      <td>0</td>\n",
       "      <td>married</td>\n",
       "      <td>0</td>\n",
       "      <td>F</td>\n",
       "      <td>business</td>\n",
       "      <td>0</td>\n",
       "      <td>38484.156</td>\n",
       "      <td>housing transactions</td>\n",
       "    </tr>\n",
       "    <tr>\n",
       "      <th>7</th>\n",
       "      <td>0</td>\n",
       "      <td>-152.779569</td>\n",
       "      <td>50</td>\n",
       "      <td>SECONDARY EDUCATION</td>\n",
       "      <td>1</td>\n",
       "      <td>married</td>\n",
       "      <td>0</td>\n",
       "      <td>M</td>\n",
       "      <td>employee</td>\n",
       "      <td>0</td>\n",
       "      <td>21731.829</td>\n",
       "      <td>education</td>\n",
       "    </tr>\n",
       "    <tr>\n",
       "      <th>8</th>\n",
       "      <td>2</td>\n",
       "      <td>-6929.865299</td>\n",
       "      <td>35</td>\n",
       "      <td>BACHELOR'S DEGREE</td>\n",
       "      <td>0</td>\n",
       "      <td>civil partnership</td>\n",
       "      <td>1</td>\n",
       "      <td>F</td>\n",
       "      <td>employee</td>\n",
       "      <td>0</td>\n",
       "      <td>15337.093</td>\n",
       "      <td>having a wedding</td>\n",
       "    </tr>\n",
       "    <tr>\n",
       "      <th>9</th>\n",
       "      <td>0</td>\n",
       "      <td>-2188.756445</td>\n",
       "      <td>41</td>\n",
       "      <td>secondary education</td>\n",
       "      <td>1</td>\n",
       "      <td>married</td>\n",
       "      <td>0</td>\n",
       "      <td>M</td>\n",
       "      <td>employee</td>\n",
       "      <td>0</td>\n",
       "      <td>23108.150</td>\n",
       "      <td>purchase of the house for my family</td>\n",
       "    </tr>\n",
       "  </tbody>\n",
       "</table>\n",
       "</div>"
      ],
      "text/plain": [
       "   children  days_employed  dob_years            education  education_id  \\\n",
       "0         1   -8437.673028         42    bachelor's degree             0   \n",
       "1         1   -4024.803754         36  secondary education             1   \n",
       "2         0   -5623.422610         33  Secondary Education             1   \n",
       "3         3   -4124.747207         32  secondary education             1   \n",
       "4         0  340266.072047         53  secondary education             1   \n",
       "5         0    -926.185831         27    bachelor's degree             0   \n",
       "6         0   -2879.202052         43    bachelor's degree             0   \n",
       "7         0    -152.779569         50  SECONDARY EDUCATION             1   \n",
       "8         2   -6929.865299         35    BACHELOR'S DEGREE             0   \n",
       "9         0   -2188.756445         41  secondary education             1   \n",
       "\n",
       "       family_status  family_status_id gender income_type  debt  total_income  \\\n",
       "0            married                 0      F    employee     0     40620.102   \n",
       "1            married                 0      F    employee     0     17932.802   \n",
       "2            married                 0      M    employee     0     23341.752   \n",
       "3            married                 0      M    employee     0     42820.568   \n",
       "4  civil partnership                 1      F     retiree     0     25378.572   \n",
       "5  civil partnership                 1      M    business     0     40922.170   \n",
       "6            married                 0      F    business     0     38484.156   \n",
       "7            married                 0      M    employee     0     21731.829   \n",
       "8  civil partnership                 1      F    employee     0     15337.093   \n",
       "9            married                 0      M    employee     0     23108.150   \n",
       "\n",
       "                               purpose  \n",
       "0                purchase of the house  \n",
       "1                         car purchase  \n",
       "2                purchase of the house  \n",
       "3              supplementary education  \n",
       "4                    to have a wedding  \n",
       "5                purchase of the house  \n",
       "6                 housing transactions  \n",
       "7                            education  \n",
       "8                     having a wedding  \n",
       "9  purchase of the house for my family  "
      ]
     },
     "execution_count": 5,
     "metadata": {},
     "output_type": "execute_result"
    }
   ],
   "source": [
    "# vamos a mostrar las primeras filas N\n",
    "data_bank.head(10)"
   ]
  },
  {
   "cell_type": "markdown",
   "metadata": {},
   "source": [
    "Encontramos que `days_employed` es un tipo de datos coma flotante, debería de ser `int64`, por otra parte, las columnas de `days_employed` y `total_income` muestran valores ausentes."
   ]
  },
  {
   "cell_type": "code",
   "execution_count": 6,
   "metadata": {
    "scrolled": false
   },
   "outputs": [
    {
     "name": "stdout",
     "output_type": "stream",
     "text": [
      "<class 'pandas.core.frame.DataFrame'>\n",
      "RangeIndex: 21525 entries, 0 to 21524\n",
      "Data columns (total 12 columns):\n",
      " #   Column            Non-Null Count  Dtype  \n",
      "---  ------            --------------  -----  \n",
      " 0   children          21525 non-null  int64  \n",
      " 1   days_employed     19351 non-null  float64\n",
      " 2   dob_years         21525 non-null  int64  \n",
      " 3   education         21525 non-null  object \n",
      " 4   education_id      21525 non-null  int64  \n",
      " 5   family_status     21525 non-null  object \n",
      " 6   family_status_id  21525 non-null  int64  \n",
      " 7   gender            21525 non-null  object \n",
      " 8   income_type       21525 non-null  object \n",
      " 9   debt              21525 non-null  int64  \n",
      " 10  total_income      19351 non-null  float64\n",
      " 11  purpose           21525 non-null  object \n",
      "dtypes: float64(2), int64(5), object(5)\n",
      "memory usage: 2.0+ MB\n"
     ]
    }
   ],
   "source": [
    "# Obtener información sobre los datos\n",
    "data_bank.info()"
   ]
  },
  {
   "cell_type": "markdown",
   "metadata": {},
   "source": [
    "Encontramos valores ausentes en las columnas `days_employed` y `total_income`, a primera vista, sin embargo, se puede hacer el razonamiento que los valores que faltan es debido a **clientes desempleado o que nunca han tarbajado**  por lo que debemos de confirmar que estos \"datos ausentes\" sea debido a estos eventos."
   ]
  },
  {
   "cell_type": "code",
   "execution_count": 7,
   "metadata": {
    "scrolled": true
   },
   "outputs": [
    {
     "name": "stdout",
     "output_type": "stream",
     "text": [
      "<class 'pandas.core.frame.DataFrame'>\n",
      "Int64Index: 2174 entries, 12 to 21510\n",
      "Data columns (total 12 columns):\n",
      " #   Column            Non-Null Count  Dtype  \n",
      "---  ------            --------------  -----  \n",
      " 0   children          2174 non-null   int64  \n",
      " 1   days_employed     0 non-null      float64\n",
      " 2   dob_years         2174 non-null   int64  \n",
      " 3   education         2174 non-null   object \n",
      " 4   education_id      2174 non-null   int64  \n",
      " 5   family_status     2174 non-null   object \n",
      " 6   family_status_id  2174 non-null   int64  \n",
      " 7   gender            2174 non-null   object \n",
      " 8   income_type       2174 non-null   object \n",
      " 9   debt              2174 non-null   int64  \n",
      " 10  total_income      0 non-null      float64\n",
      " 11  purpose           2174 non-null   object \n",
      "dtypes: float64(2), int64(5), object(5)\n",
      "memory usage: 220.8+ KB\n"
     ]
    }
   ],
   "source": [
    "# Veamos la tabla filtrada con valores ausentes de la primera columna donde faltan datos\n",
    "data_bank_filtered = data_bank[data_bank['days_employed'].isna()]\n",
    "data_bank_filtered.info()"
   ]
  },
  {
   "cell_type": "markdown",
   "metadata": {},
   "source": [
    "Se observa que los valores ausentes son simétricos con la cantidad de filas que hacen falta por lo que se puede inferir que no existen más valores ausentes más allá de los valores relacionados entre las columnas `days_employed` y `total_income`. La primera hipótesis es que los clientes que no trabajan no recibieron ingresos y, por ende, no hay valores en estas columnas."
   ]
  },
  {
   "cell_type": "code",
   "execution_count": 8,
   "metadata": {},
   "outputs": [
    {
     "data": {
      "text/html": [
       "<div>\n",
       "<style scoped>\n",
       "    .dataframe tbody tr th:only-of-type {\n",
       "        vertical-align: middle;\n",
       "    }\n",
       "\n",
       "    .dataframe tbody tr th {\n",
       "        vertical-align: top;\n",
       "    }\n",
       "\n",
       "    .dataframe thead th {\n",
       "        text-align: right;\n",
       "    }\n",
       "</style>\n",
       "<table border=\"1\" class=\"dataframe\">\n",
       "  <thead>\n",
       "    <tr style=\"text-align: right;\">\n",
       "      <th></th>\n",
       "      <th>days_employed</th>\n",
       "      <th>total_income</th>\n",
       "    </tr>\n",
       "  </thead>\n",
       "  <tbody>\n",
       "    <tr>\n",
       "      <th>12</th>\n",
       "      <td>NaN</td>\n",
       "      <td>NaN</td>\n",
       "    </tr>\n",
       "    <tr>\n",
       "      <th>26</th>\n",
       "      <td>NaN</td>\n",
       "      <td>NaN</td>\n",
       "    </tr>\n",
       "    <tr>\n",
       "      <th>29</th>\n",
       "      <td>NaN</td>\n",
       "      <td>NaN</td>\n",
       "    </tr>\n",
       "    <tr>\n",
       "      <th>41</th>\n",
       "      <td>NaN</td>\n",
       "      <td>NaN</td>\n",
       "    </tr>\n",
       "    <tr>\n",
       "      <th>55</th>\n",
       "      <td>NaN</td>\n",
       "      <td>NaN</td>\n",
       "    </tr>\n",
       "    <tr>\n",
       "      <th>...</th>\n",
       "      <td>...</td>\n",
       "      <td>...</td>\n",
       "    </tr>\n",
       "    <tr>\n",
       "      <th>21489</th>\n",
       "      <td>NaN</td>\n",
       "      <td>NaN</td>\n",
       "    </tr>\n",
       "    <tr>\n",
       "      <th>21495</th>\n",
       "      <td>NaN</td>\n",
       "      <td>NaN</td>\n",
       "    </tr>\n",
       "    <tr>\n",
       "      <th>21497</th>\n",
       "      <td>NaN</td>\n",
       "      <td>NaN</td>\n",
       "    </tr>\n",
       "    <tr>\n",
       "      <th>21502</th>\n",
       "      <td>NaN</td>\n",
       "      <td>NaN</td>\n",
       "    </tr>\n",
       "    <tr>\n",
       "      <th>21510</th>\n",
       "      <td>NaN</td>\n",
       "      <td>NaN</td>\n",
       "    </tr>\n",
       "  </tbody>\n",
       "</table>\n",
       "<p>2174 rows × 2 columns</p>\n",
       "</div>"
      ],
      "text/plain": [
       "       days_employed  total_income\n",
       "12               NaN           NaN\n",
       "26               NaN           NaN\n",
       "29               NaN           NaN\n",
       "41               NaN           NaN\n",
       "55               NaN           NaN\n",
       "...              ...           ...\n",
       "21489            NaN           NaN\n",
       "21495            NaN           NaN\n",
       "21497            NaN           NaN\n",
       "21502            NaN           NaN\n",
       "21510            NaN           NaN\n",
       "\n",
       "[2174 rows x 2 columns]"
      ]
     },
     "execution_count": 8,
     "metadata": {},
     "output_type": "execute_result"
    }
   ],
   "source": [
    "# Apliquemos múltiples condiciones para filtrar datos y veamos el número de filas en la tabla filtrada.\n",
    "\n",
    "data_bank_filtered.loc[:,['days_employed','total_income'],]"
   ]
  },
  {
   "cell_type": "markdown",
   "metadata": {},
   "source": [
    "En efecto, los valores ausentes son simétricos."
   ]
  },
  {
   "cell_type": "markdown",
   "metadata": {},
   "source": [
    "**Conclusión intermedia**\n",
    "\n",
    "El número de filas de la tabla filtrada coincide con el número de valores ausentes por lo que la hipótesis de los valores ausentes se trate a que los clientes no tengan trabajo y por ello no demostaron ingresos."
   ]
  },
  {
   "cell_type": "code",
   "execution_count": 9,
   "metadata": {},
   "outputs": [
    {
     "name": "stdout",
     "output_type": "stream",
     "text": [
      "La distribución de valores ausentes de:\n",
      "2174\n",
      "La distribución de valores ausentes es: 10.1% del total de clientes.\n"
     ]
    }
   ],
   "source": [
    "# Vamos a investigar a los clientes que no tienen datos sobre la característica identificada y la columna con los valores ausentes\n",
    "print('La distribución de valores ausentes de:')\n",
    "print(data_bank['days_employed'].isna().sum())\n",
    "# Comprobación de la distribución\n",
    "dist = data_bank['days_employed'].isna().sum() / data_bank['children'].count()\n",
    "print(f'La distribución de valores ausentes es:{dist: .1%} del total de clientes.')"
   ]
  },
  {
   "cell_type": "markdown",
   "metadata": {},
   "source": [
    "Cerca del 10% de los datos tienen valores ausentes lo que hace inferir que ese 10 % no trabaja ni recibe ingresos."
   ]
  },
  {
   "cell_type": "markdown",
   "metadata": {},
   "source": [
    "**Posibles razones por las que hay valores ausentes en los datos**\n",
    "\n",
    "- La probable causa de los valores ausentes sea que los clientes tengan empleo, es decir, no hayan estado generando ingresos y hayan dejado `days_employed` y `total_income` sin contestar."
   ]
  },
  {
   "cell_type": "code",
   "execution_count": 10,
   "metadata": {},
   "outputs": [
    {
     "name": "stdout",
     "output_type": "stream",
     "text": [
      "               total  filtered  distribution\n",
      "business        5085     508.0      9.990167\n",
      "civil servant   1459     147.0     10.075394\n",
      "employee       11119    1105.0      9.937944\n",
      "entrepreneur       2       1.0     50.000000\n"
     ]
    }
   ],
   "source": [
    "# Comprobando la distribución en el conjunto de datos entero\n",
    "dataframeinfo = {'total': data_bank['income_type'].value_counts(), 'filtered': data_bank_filtered\n",
    "        ['income_type'].value_counts()}\n",
    "dataframa = pd.DataFrame(data=dataframeinfo)\n",
    "dataframa['distribution'] = dataframa['filtered'] / dataframa['total']*100\n",
    "print(dataframa.head(4))"
   ]
  },
  {
   "cell_type": "code",
   "execution_count": 11,
   "metadata": {},
   "outputs": [
    {
     "name": "stdout",
     "output_type": "stream",
     "text": [
      "               income_type  total_dist  filtered  filtered_dist\n",
      "employee             11119   51.656214    1105.0      50.827967\n",
      "business              5085   23.623693     508.0      23.367065\n",
      "retiree               3856   17.914053     413.0      18.997240\n",
      "civil servant         1459    6.778165     147.0       6.761730\n"
     ]
    }
   ],
   "source": [
    "income_type_by_ausent = pd.DataFrame(data=data_bank['income_type'].value_counts(ascending=False))\n",
    "income_type_by_ausent['total_dist'] = income_type_by_ausent/sum(income_type_by_ausent['income_type'])*100\n",
    "income_type_by_ausent['filtered'] = data_bank_filtered['income_type'].value_counts()\n",
    "income_type_by_ausent['filtered_dist'] = income_type_by_ausent['filtered']/sum(income_type_by_ausent['filtered'].fillna(0))*100\n",
    "print(income_type_by_ausent.head(4))"
   ]
  },
  {
   "cell_type": "markdown",
   "metadata": {},
   "source": [
    "**Conclusión intermedia**\n",
    "\n",
    "Es similar el conjunto de datos original con el conjunto de datos de la distribucion filtrada lo que significa que los valores ausentes **no dependen** del tipo de empleo."
   ]
  },
  {
   "cell_type": "markdown",
   "metadata": {},
   "source": [
    "**Conclusiones**\n",
    "\n",
    "En el análisis de valores ausentes se ha determinado que éstos **podrían** pertenecen a clientes que están desempleados y no tienen un ingreso menusal lo que se correlaciona con las filas que también tienen valores ausentes.\n",
    "\n",
    "Es una posibilidad la eliminación de los valores ausentes ya que no interfiere en la distribución de las características de los clientes, sin embargo tampoco provocaría un sesgo el mantener y llenar esos valores ausentes.\n",
    "\n",
    "Un punto importante de notar es que debido a que los clientes no agregaron los datos en la columas de `days_employed`y en `total_income` pero sí hayan llenado su `income_type` diferente de \"desempleado\" obliga a pensar que no quisieron llenar esos valores."
   ]
  },
  {
   "cell_type": "markdown",
   "metadata": {},
   "source": [
    "## Transformación de datos"
   ]
  },
  {
   "cell_type": "code",
   "execution_count": 12,
   "metadata": {},
   "outputs": [
    {
     "name": "stdout",
     "output_type": "stream",
     "text": [
      "54\n"
     ]
    }
   ],
   "source": [
    "# Veamos todos los valores en la columna de educación para verificar si será necesario corregir la ortografía y qué habrá que corregir exactamente\n",
    "print(data_bank.duplicated().sum())"
   ]
  },
  {
   "cell_type": "code",
   "execution_count": 13,
   "metadata": {
    "scrolled": true
   },
   "outputs": [],
   "source": [
    "# Arreglando registros\n",
    "data_bank = data_bank.drop_duplicates()"
   ]
  },
  {
   "cell_type": "code",
   "execution_count": 14,
   "metadata": {},
   "outputs": [
    {
     "name": "stdout",
     "output_type": "stream",
     "text": [
      "0\n"
     ]
    }
   ],
   "source": [
    "# Comprobando todos los valores en la columna para asegurarnos de que los hayamos corregido\n",
    "print(data_bank.duplicated().sum())"
   ]
  },
  {
   "cell_type": "code",
   "execution_count": 15,
   "metadata": {},
   "outputs": [
    {
     "name": "stdout",
     "output_type": "stream",
     "text": [
      " 0     14107\n",
      " 1      4809\n",
      " 2      2052\n",
      " 3       330\n",
      " 20       76\n",
      "-1        47\n",
      " 4        41\n",
      " 5         9\n",
      "Name: children, dtype: int64\n"
     ]
    }
   ],
   "source": [
    "# Veamos la distribución de los valores en la columna `children`\n",
    "print(data_bank['children'].value_counts())"
   ]
  },
  {
   "cell_type": "code",
   "execution_count": 16,
   "metadata": {},
   "outputs": [
    {
     "name": "stdout",
     "output_type": "stream",
     "text": [
      "La distribución de clientes que agregaron -1 en la columna de hijos es del: 0.4%.\n"
     ]
    }
   ],
   "source": [
    "dist_child = (data_bank['children'] ==-1).sum()\n",
    "total_child = data_bank['children'].sum()\n",
    "dist = dist_child / total_child\n",
    "print(f'La distribución de clientes que agregaron -1 en la columna de hijos es del:{dist: .1%}.')"
   ]
  },
  {
   "cell_type": "code",
   "execution_count": 17,
   "metadata": {},
   "outputs": [],
   "source": [
    "# [arregla los datos según tu decisión]\n",
    "data_bank['children'] = data_bank['children'].abs()\n",
    "data_bank['children'] = data_bank['children'].replace(20,2)"
   ]
  },
  {
   "cell_type": "code",
   "execution_count": 18,
   "metadata": {},
   "outputs": [
    {
     "name": "stdout",
     "output_type": "stream",
     "text": [
      "0    14107\n",
      "1     4856\n",
      "2     2128\n",
      "3      330\n",
      "4       41\n",
      "5        9\n",
      "Name: children, dtype: int64\n"
     ]
    }
   ],
   "source": [
    "# Comprobar la columna `children` de nuevo para asegurarnos de que todo está arreglado\n",
    "print(data_bank['children'].value_counts())"
   ]
  },
  {
   "cell_type": "code",
   "execution_count": 19,
   "metadata": {},
   "outputs": [
    {
     "name": "stdout",
     "output_type": "stream",
     "text": [
      "El porcentaje de números negativos y flotantes es de: 82.2%.\n"
     ]
    }
   ],
   "source": [
    "# Encontrar datos problemáticos en `days_employed`, si existen, y calculamos el porcentaje\n",
    "\n",
    "negativ = (data_bank['days_employed']<0).sum()\n",
    "positiv = (data_bank['days_employed']>=0).sum()\n",
    "percent = negativ / (negativ + positiv)\n",
    "print(f'El porcentaje de números negativos y flotantes es de:{percent: .1%}.')"
   ]
  },
  {
   "cell_type": "markdown",
   "metadata": {},
   "source": [
    "Como la cantidad de datos problemáticos es significcativa, buscaremos una forma de resolver los valores problemáticos."
   ]
  },
  {
   "cell_type": "code",
   "execution_count": 20,
   "metadata": {},
   "outputs": [],
   "source": [
    "# Abordando los valores problemáticos, si existen.\n",
    "data_bank['days_employed'] = data_bank['days_employed'].abs()\n",
    "data_bank['days_employed'] = data_bank['days_employed'].fillna(0).astype(int)"
   ]
  },
  {
   "cell_type": "code",
   "execution_count": 21,
   "metadata": {},
   "outputs": [
    {
     "data": {
      "text/plain": [
       "1818"
      ]
     },
     "execution_count": 21,
     "metadata": {},
     "output_type": "execute_result"
    }
   ],
   "source": [
    "int(data_bank['days_employed'].median())"
   ]
  },
  {
   "cell_type": "code",
   "execution_count": 22,
   "metadata": {},
   "outputs": [
    {
     "data": {
      "text/plain": [
       "1354"
      ]
     },
     "execution_count": 22,
     "metadata": {},
     "output_type": "execute_result"
    }
   ],
   "source": [
    "median_days_employed = int(data_bank[data_bank['days_employed']<18250]['days_employed'].median())\n",
    "median_days_employed"
   ]
  },
  {
   "cell_type": "code",
   "execution_count": 23,
   "metadata": {},
   "outputs": [],
   "source": [
    "data_bank.loc[data_bank.days_employed>18250,'days_employed'] = median_days_employed"
   ]
  },
  {
   "cell_type": "code",
   "execution_count": 24,
   "metadata": {},
   "outputs": [
    {
     "data": {
      "text/plain": [
       "0"
      ]
     },
     "execution_count": 24,
     "metadata": {},
     "output_type": "execute_result"
    }
   ],
   "source": [
    "(data_bank['days_employed']>18250).sum()"
   ]
  },
  {
   "cell_type": "code",
   "execution_count": 25,
   "metadata": {},
   "outputs": [
    {
     "name": "stdout",
     "output_type": "stream",
     "text": [
      "La cantidad de negativos son: 0 y la cantidad de positivos: 21471.\n"
     ]
    }
   ],
   "source": [
    "# Comprobando el resultado\n",
    "n=0\n",
    "p=0\n",
    "\n",
    "for data in data_bank['days_employed']:\n",
    "    if data < 0:\n",
    "        n = n+1\n",
    "    else:\n",
    "        p = p+1\n",
    "print(f'La cantidad de negativos son: {n:} y la cantidad de positivos: {p:}.')"
   ]
  },
  {
   "cell_type": "code",
   "execution_count": 26,
   "metadata": {
    "scrolled": true
   },
   "outputs": [
    {
     "name": "stdout",
     "output_type": "stream",
     "text": [
      "False    21370\n",
      "True       101\n",
      "Name: dob_years, dtype: int64\n"
     ]
    }
   ],
   "source": [
    "# Revisar `dob_years` en busca de valores sospechosos y cuenta el porcentaje\n",
    "print((data_bank['dob_years'] < 18).value_counts())"
   ]
  },
  {
   "cell_type": "markdown",
   "metadata": {},
   "source": [
    "Se han encontrado clientes donde la edad que marcaron es `0`, lo que hace suponer que o son menores de edad que no registraron su edad o simplemente omitieron escribir su edad, se logra determinar que este grupo de clientes debe ser evaluado con otras de sus características como su estado civil, o si cuentan con un trabajo, ya que eso nos dará mayor claridad de su posible edad. De pasar a que nuestra hipótesis sea correcta podríamos sustituir los valores de `0` por el promedio o la mediana según sea el caso donde no nos provoque un sesgo en nuestro análisis final."
   ]
  },
  {
   "cell_type": "code",
   "execution_count": 27,
   "metadata": {},
   "outputs": [],
   "source": [
    "# Resuelviendo los problemas en la columna `dob_years`, si existen\n",
    "promedio = data_bank['dob_years'].mean()\n",
    "mediana = data_bank.loc[ data_bank[\"dob_years\"] != 0, 'dob_years' ].median()\n",
    "\n",
    "data_bank['dob_years'] = data_bank['dob_years'].replace(0,mediana)"
   ]
  },
  {
   "cell_type": "code",
   "execution_count": 28,
   "metadata": {},
   "outputs": [
    {
     "name": "stdout",
     "output_type": "stream",
     "text": [
      "0\n"
     ]
    }
   ],
   "source": [
    "# Comprobando el resultado\n",
    "print((data_bank['dob_years']==0).sum())"
   ]
  },
  {
   "cell_type": "markdown",
   "metadata": {},
   "source": [
    "Limpiaremos los datos de `purpose`:"
   ]
  },
  {
   "cell_type": "code",
   "execution_count": 29,
   "metadata": {},
   "outputs": [],
   "source": [
    "data_bank['purpose'].unique()\n",
    "\n",
    "correct_values = ['purchase_house','purchase_car','education','wedding','buy_real_state']\n",
    "wrong_values = ['purchase of the house', 'car purchase', 'supplementary education',\n",
    "       'to have a wedding', 'housing transactions', 'education',\n",
    "       'having a wedding', 'purchase of the house for my family',\n",
    "       'buy real estate', 'buy commercial real estate',\n",
    "       'buy residential real estate', 'construction of own property',\n",
    "       'property', 'building a property', 'buying a second-hand car',\n",
    "       'buying my own car', 'transactions with commercial real estate',\n",
    "       'building a real estate', 'housing',\n",
    "       'transactions with my real estate', 'cars', 'to become educated',\n",
    "       'second-hand car purchase', 'getting an education', 'car',\n",
    "       'wedding ceremony', 'to get a supplementary education',\n",
    "       'purchase of my own house', 'real estate transactions',\n",
    "       'getting higher education', 'to own a car', 'purchase of a car',\n",
    "       'profile education', 'university education',\n",
    "       'buying property for renting out', 'to buy a car',\n",
    "       'housing renovation', 'going to university']\n"
   ]
  },
  {
   "cell_type": "code",
   "execution_count": 30,
   "metadata": {},
   "outputs": [],
   "source": [
    "def replace_values(wrong_values, correct_value):\n",
    "    for wrong_value in wrong_values:\n",
    "        data_bank['purpose'] = data_bank['purpose'].replace(duplicates, correct_value)"
   ]
  },
  {
   "cell_type": "code",
   "execution_count": 31,
   "metadata": {},
   "outputs": [],
   "source": [
    "duplicates = ['purchase of the house','purchase of the house for my family','purchase of my own house',\n",
    "              'buying property for renting out','housing renovation','housing transactions','housing']\n",
    "correct_value = 'purchase_house'\n",
    "\n",
    "replace_values(duplicates, correct_value)\n",
    "\n",
    "duplicates = ['car purchase','buying a second-hand car','buying my own car','cars','second-hand car purchase',\n",
    "              'car','to own a car','purchase of a car','to buy a car']\n",
    "correct_value = 'purchase_car'\n",
    "replace_values(duplicates, correct_value)\n",
    "\n",
    "\n",
    "duplicates = ['supplementary education','education','to become educated','getting an education',\n",
    "              'to get a supplementary education','getting higher education','profile education',\n",
    "              'university education','going to university']\n",
    "correct_value = 'education'\n",
    "replace_values(duplicates, correct_value)\n",
    "\n",
    "duplicates = ['to have a wedding','having a wedding','wedding ceremony']\n",
    "correct_value = 'wedding'\n",
    "replace_values(duplicates, correct_value)\n",
    "\n",
    "duplicates = ['buy real estate','buy commercial real estate','buy residential real estate','construction of own property',\n",
    "              'property','building a property','transactions with commercial real estate','building a real estate',\n",
    "              'transactions with my real estate', 'real estate transactions']\n",
    "correct_value = 'real_estate'\n",
    "replace_values(duplicates, correct_value)"
   ]
  },
  {
   "cell_type": "code",
   "execution_count": 32,
   "metadata": {},
   "outputs": [
    {
     "name": "stdout",
     "output_type": "stream",
     "text": [
      "['purchase_house' 'purchase_car' 'education' 'wedding' 'real_estate']\n"
     ]
    }
   ],
   "source": [
    "print(data_bank['purpose'].unique())"
   ]
  },
  {
   "cell_type": "code",
   "execution_count": 33,
   "metadata": {},
   "outputs": [
    {
     "name": "stdout",
     "output_type": "stream",
     "text": [
      "['married' 'civil partnership' 'widow / widower' 'divorced' 'unmarried']\n"
     ]
    }
   ],
   "source": [
    "# Veamos los valores de la columna\n",
    "print(data_bank['family_status'].unique())"
   ]
  },
  {
   "cell_type": "code",
   "execution_count": 34,
   "metadata": {},
   "outputs": [
    {
     "name": "stdout",
     "output_type": "stream",
     "text": [
      "married              12344\n",
      "civil partnership     4163\n",
      "unmarried             2810\n",
      "divorced              1195\n",
      "widow / widower        959\n",
      "Name: family_status, dtype: int64\n"
     ]
    }
   ],
   "source": [
    "print(data_bank['family_status'].value_counts())"
   ]
  },
  {
   "cell_type": "markdown",
   "metadata": {},
   "source": [
    "Vemos que los datos tienen espacios entre sí, los vamos cambiar con snake_case"
   ]
  },
  {
   "cell_type": "code",
   "execution_count": 35,
   "metadata": {},
   "outputs": [],
   "source": [
    "# Abordando los valores problemáticos en `family_status`, si existen\n",
    "data_bank['family_status'] = data_bank['family_status'].replace(\n",
    "    ['civil partnership', 'widow / widower'],\n",
    "    ['civil_partnership', 'widow_/_widower'])"
   ]
  },
  {
   "cell_type": "code",
   "execution_count": 36,
   "metadata": {},
   "outputs": [
    {
     "name": "stdout",
     "output_type": "stream",
     "text": [
      "['married' 'civil_partnership' 'widow_/_widower' 'divorced' 'unmarried']\n"
     ]
    }
   ],
   "source": [
    "# Comprobando el resultado\n",
    "print(data_bank['family_status'].unique())"
   ]
  },
  {
   "cell_type": "code",
   "execution_count": 37,
   "metadata": {},
   "outputs": [
    {
     "name": "stdout",
     "output_type": "stream",
     "text": [
      "F      14189\n",
      "M       7281\n",
      "XNA        1\n",
      "Name: gender, dtype: int64\n"
     ]
    }
   ],
   "source": [
    "# Veamos los valores en la columna\n",
    "print(data_bank['gender'].value_counts())"
   ]
  },
  {
   "cell_type": "code",
   "execution_count": 38,
   "metadata": {},
   "outputs": [],
   "source": [
    "# Abordando los valores problemáticos, si existen\n",
    "idx = data_bank[data_bank['gender']=='XNA'].index\n",
    "data_bank = data_bank.drop(idx)"
   ]
  },
  {
   "cell_type": "code",
   "execution_count": 39,
   "metadata": {},
   "outputs": [
    {
     "name": "stdout",
     "output_type": "stream",
     "text": [
      "F    14189\n",
      "M     7281\n",
      "Name: gender, dtype: int64\n"
     ]
    }
   ],
   "source": [
    "# Comprobando el resultado\n",
    "print(data_bank['gender'].value_counts())"
   ]
  },
  {
   "cell_type": "code",
   "execution_count": 40,
   "metadata": {},
   "outputs": [
    {
     "name": "stdout",
     "output_type": "stream",
     "text": [
      "employee                       11091\n",
      "business                        5079\n",
      "retiree                         3837\n",
      "civil servant                   1457\n",
      "unemployed                         2\n",
      "entrepreneur                       2\n",
      "student                            1\n",
      "paternity / maternity leave        1\n",
      "Name: income_type, dtype: int64\n"
     ]
    }
   ],
   "source": [
    "# Veamos los valores en la columna\n",
    "print(data_bank['income_type'].value_counts())"
   ]
  },
  {
   "cell_type": "markdown",
   "metadata": {},
   "source": [
    "Eliminaremos los valores de carencia estadística."
   ]
  },
  {
   "cell_type": "code",
   "execution_count": 41,
   "metadata": {},
   "outputs": [],
   "source": [
    "# Abordando los valores problemáticos, si existen\n",
    "idx = data_bank[data_bank['income_type'] == 'entrepreneur'].index\n",
    "data_bank = data_bank.drop(idx)\n",
    "idx = data_bank[data_bank['income_type'] == 'unemployed'].index\n",
    "data_bank = data_bank.drop(idx)\n",
    "idx = data_bank[data_bank['income_type'] == 'student'].index\n",
    "data_bank = data_bank.drop(idx)\n",
    "idx = data_bank[data_bank['income_type'] == 'paternity / maternity leave'].index\n",
    "data_bank = data_bank.drop(idx)"
   ]
  },
  {
   "cell_type": "code",
   "execution_count": 42,
   "metadata": {},
   "outputs": [
    {
     "name": "stdout",
     "output_type": "stream",
     "text": [
      "employee         11091\n",
      "business          5079\n",
      "retiree           3837\n",
      "civil servant     1457\n",
      "Name: income_type, dtype: int64\n"
     ]
    }
   ],
   "source": [
    "# Comprobando el resultado\n",
    "print(data_bank['income_type'].value_counts())"
   ]
  },
  {
   "cell_type": "code",
   "execution_count": 43,
   "metadata": {},
   "outputs": [
    {
     "name": "stdout",
     "output_type": "stream",
     "text": [
      "False    21256\n",
      "True       208\n",
      "dtype: int64\n"
     ]
    }
   ],
   "source": [
    "# Comprobando duplicados\n",
    "print(data_bank.duplicated().value_counts())"
   ]
  },
  {
   "cell_type": "code",
   "execution_count": 44,
   "metadata": {},
   "outputs": [
    {
     "name": "stdout",
     "output_type": "stream",
     "text": [
      "Las filas de la tabla original: 21525.\n",
      "Las filas de la tabla preprocesada: 21464.\n",
      "La cantidad clientes estadísticamente significativos corresponde a un  99.7% de los clientes totales.\n"
     ]
    }
   ],
   "source": [
    "# Comprobando el tamaño del conjunto de datos después de haber ejecutado estas primeras manipulaciones\n",
    "new_rows = len(data_bank.axes[0])\n",
    "print(f'Las filas de la tabla original: {rows}.')\n",
    "print(f'Las filas de la tabla preprocesada: {new_rows}.')\n",
    "new_data_percent = new_rows / rows\n",
    "print(f'La cantidad clientes estadísticamente significativos corresponde a un {new_data_percent: .1%} de los clientes totales.')"
   ]
  },
  {
   "cell_type": "markdown",
   "metadata": {},
   "source": [
    "# Trabajar con valores ausentes"
   ]
  },
  {
   "cell_type": "markdown",
   "metadata": {},
   "source": [
    "Vamos a realizar diccionarios para la facilitación de procesos en los valores que vamos a trabajar."
   ]
  },
  {
   "cell_type": "code",
   "execution_count": 45,
   "metadata": {},
   "outputs": [
    {
     "name": "stdout",
     "output_type": "stream",
     "text": [
      "Tabla de valores únicos para `family_status`.\n",
      "married              12341\n",
      "civil partnership     4160\n",
      "unmarried             2809\n",
      "divorced              1195\n",
      "widow_widower          959\n",
      "dtype: int64\n",
      "--------------------------------------------------\n",
      "Tabla para valores únicos de `education`\n",
      "secundary_education    15186\n",
      "bachelor's_degree       5247\n",
      "some_college             743\n",
      "primary_education        282\n",
      "graduate_degree            6\n",
      "dtype: int64\n"
     ]
    }
   ],
   "source": [
    "#Haremos los diccionarios.\n",
    "\n",
    "db_dict_edu = {\n",
    "    0 : \"bachelor's_degree\",\n",
    "    1 : 'secundary_education',\n",
    "    2 : 'some_college',\n",
    "    3 : 'primary_education',\n",
    "    4 : 'graduate_degree'\n",
    "}\n",
    "\n",
    "db_dict_family_status = {\n",
    "    0:'married',\n",
    "    1:'civil partnership',\n",
    "    2:'widow_widower',\n",
    "    3:'divorced',\n",
    "    4:'unmarried'\n",
    "    }\n",
    "\n",
    "#Con los diccionarios, utilizaremos los id's de `family_status` y `education` para limpiar los valores únicos\n",
    "\n",
    "family_status = []\n",
    "\n",
    "for family in data_bank['family_status_id']:\n",
    "    family_status.append(db_dict_family_status.get(family))\n",
    "\n",
    "db_family = pd.DataFrame(data=family_status)\n",
    "print('Tabla de valores únicos para `family_status`.')\n",
    "print(db_family.value_counts())\n",
    "print('-'*50)\n",
    "\n",
    "education = []\n",
    "\n",
    "for edu in data_bank['education_id']:\n",
    "    education.append(db_dict_edu.get(edu))\n",
    "\n",
    "db_education = pd.DataFrame(data=education)\n",
    "print('Tabla para valores únicos de `education`')\n",
    "print(db_education.value_counts())\n",
    "        "
   ]
  },
  {
   "cell_type": "markdown",
   "metadata": {},
   "source": [
    "### Restaurar valores ausentes en `total_income`"
   ]
  },
  {
   "cell_type": "markdown",
   "metadata": {},
   "source": [
    "Como ya se ha mencionado antes, los valores ausentes que hemos encontardo están en las columnas `dob_years` y `total_income`, el plan es abordar esos valores ausentes y evaluar si se deben de eliminar o impotarlos. Para ello primero debemos de de clasificar los valores de ambas columnas, de ahí el siguiente paso será la imputación de datos por medio de estadística descriptiva siendo **mediana** y **media** los probables candidatos."
   ]
  },
  {
   "cell_type": "code",
   "execution_count": 46,
   "metadata": {},
   "outputs": [],
   "source": [
    "# Vamos a escribir una función que calcule la categoría de edad\n",
    "data_bank['dob_years'] = data_bank['dob_years'].astype(int)\n",
    "\n",
    "def age_group(age):\n",
    "    if age <= 17:\n",
    "        return 'children'\n",
    "    if age <= 30:\n",
    "        return 'young_men'\n",
    "    if age <= 40:\n",
    "        return 'middle_adult'\n",
    "    if age <= 50:\n",
    "        return 'adult'\n",
    "    if age <= 64:\n",
    "        return 'old_adult'\n",
    "    return 'retired'"
   ]
  },
  {
   "cell_type": "code",
   "execution_count": 47,
   "metadata": {},
   "outputs": [
    {
     "name": "stdout",
     "output_type": "stream",
     "text": [
      "children\n",
      "young_men\n",
      "middle_adult\n",
      "adult\n",
      "old_adult\n",
      "retired\n"
     ]
    }
   ],
   "source": [
    "# Probando función\n",
    "print(age_group(5))\n",
    "print(age_group(19))\n",
    "print(age_group(37))\n",
    "print(age_group(45))\n",
    "print(age_group(59))\n",
    "print(age_group(74))"
   ]
  },
  {
   "cell_type": "code",
   "execution_count": 48,
   "metadata": {},
   "outputs": [],
   "source": [
    "# Creando una nueva columna basada en la función\n",
    "data_bank['age_group'] = data_bank['dob_years'].apply(age_group)"
   ]
  },
  {
   "cell_type": "code",
   "execution_count": 49,
   "metadata": {},
   "outputs": [
    {
     "name": "stdout",
     "output_type": "stream",
     "text": [
      "old_adult       5756\n",
      "middle_adult    5730\n",
      "adult           5364\n",
      "young_men       3716\n",
      "retired          898\n",
      "Name: age_group, dtype: int64\n"
     ]
    }
   ],
   "source": [
    "# Comprobar los valores en la nueva columna\n",
    "print(data_bank['age_group'].value_counts())"
   ]
  },
  {
   "cell_type": "code",
   "execution_count": 50,
   "metadata": {},
   "outputs": [
    {
     "name": "stdout",
     "output_type": "stream",
     "text": [
      "<class 'pandas.core.frame.DataFrame'>\n",
      "Int64Index: 21464 entries, 0 to 21524\n",
      "Data columns (total 13 columns):\n",
      " #   Column            Non-Null Count  Dtype  \n",
      "---  ------            --------------  -----  \n",
      " 0   children          21464 non-null  int64  \n",
      " 1   days_employed     21464 non-null  int32  \n",
      " 2   dob_years         21464 non-null  int32  \n",
      " 3   education         21464 non-null  object \n",
      " 4   education_id      21464 non-null  int64  \n",
      " 5   family_status     21464 non-null  object \n",
      " 6   family_status_id  21464 non-null  int64  \n",
      " 7   gender            21464 non-null  object \n",
      " 8   income_type       21464 non-null  object \n",
      " 9   debt              21464 non-null  int64  \n",
      " 10  total_income      19345 non-null  float64\n",
      " 11  purpose           21464 non-null  object \n",
      " 12  age_group         21464 non-null  object \n",
      "dtypes: float64(1), int32(2), int64(4), object(6)\n",
      "memory usage: 2.1+ MB\n",
      "<class 'pandas.core.frame.DataFrame'>\n",
      "Int64Index: 19345 entries, 0 to 21524\n",
      "Data columns (total 13 columns):\n",
      " #   Column            Non-Null Count  Dtype  \n",
      "---  ------            --------------  -----  \n",
      " 0   children          19345 non-null  int64  \n",
      " 1   days_employed     19345 non-null  int32  \n",
      " 2   dob_years         19345 non-null  int32  \n",
      " 3   education         19345 non-null  object \n",
      " 4   education_id      19345 non-null  int64  \n",
      " 5   family_status     19345 non-null  object \n",
      " 6   family_status_id  19345 non-null  int64  \n",
      " 7   gender            19345 non-null  object \n",
      " 8   income_type       19345 non-null  object \n",
      " 9   debt              19345 non-null  int64  \n",
      " 10  total_income      19345 non-null  float64\n",
      " 11  purpose           19345 non-null  object \n",
      " 12  age_group         19345 non-null  object \n",
      "dtypes: float64(1), int32(2), int64(4), object(6)\n",
      "memory usage: 1.9+ MB\n"
     ]
    }
   ],
   "source": [
    "# Creando una tabla sin valores ausentes\n",
    "data_bank.info()\n",
    "data_bank_outna = data_bank.dropna(axis=0)\n",
    "data_bank_outna.info()"
   ]
  },
  {
   "cell_type": "code",
   "execution_count": 51,
   "metadata": {
    "scrolled": false
   },
   "outputs": [
    {
     "name": "stdout",
     "output_type": "stream",
     "text": [
      "         total_income       \n",
      "                 mean median\n",
      "children                    \n",
      "0               26418  23026\n",
      "1               27372  23661\n",
      "2               27488  23143\n",
      "3               29322  25155\n",
      "4               27289  24981\n",
      "5               27268  29816\n",
      "                    total_income       \n",
      "                            mean median\n",
      "education_id                           \n",
      "bachelor's_degree          33136  28043\n",
      "secundary_education        24596  21837\n",
      "some_college               29040  25608\n",
      "primary_education          21144  18741\n",
      "graduate_degree            27960  25161\n",
      "                  total_income       \n",
      "                          mean median\n",
      "family_status                        \n",
      "civil_partnership        26677  23182\n",
      "divorced                 27189  23515\n",
      "married                  27045  23390\n",
      "unmarried                26938  23149\n",
      "widow_/_widower          22984  20514\n",
      "              total_income       \n",
      "                      mean median\n",
      "income_type                      \n",
      "business             32386  27571\n",
      "civil servant        27343  24071\n",
      "employee             25820  22815\n",
      "retiree              21940  18962\n"
     ]
    }
   ],
   "source": [
    "# Examinando los valores medios y medianos de los ingresos en función de los factores\n",
    "\n",
    "stat_children = data_bank.groupby('children').agg({'total_income':['mean','median']}).astype(int)\n",
    "stat_education = data_bank.groupby('education_id').agg({'total_income':['mean','median']}).astype(int)\n",
    "stat_education = stat_education.rename(db_dict_edu, axis=0)\n",
    "stat_family_status = data_bank.groupby('family_status').agg({'total_income':['mean','median']}).astype(int)\n",
    "stat_income_type = data_bank.groupby('income_type').agg({'total_income':['mean','median']}).astype(int)\n",
    "\n",
    "print(stat_children)\n",
    "print(stat_education)\n",
    "print(stat_family_status)\n",
    "print(stat_income_type)"
   ]
  },
  {
   "cell_type": "markdown",
   "metadata": {},
   "source": [
    "Las categorías que se analizaron son los valores que empíricamente pudieran influir en la imputación de valores ausentes."
   ]
  },
  {
   "cell_type": "code",
   "execution_count": 52,
   "metadata": {},
   "outputs": [],
   "source": [
    "# Escribir la función que usaremos para completar los valores ausentes\n",
    "# Esta función regresa el promedio o la mediana más óptimo y dependiente del valor categórico y subcategórico\n",
    "\n",
    "dicc_categories = {\n",
    "    'children' : [0, 1, 2, 3, 4, 5],\n",
    "    'education' : [\"bachelor's_degree\", 'secundary_education', 'some_college', 'primary_education','graduate_degree'],\n",
    "    'family_status' : ['civil_partnership', 'divorced', 'married', 'unmarried', 'widow_/_widower'],\n",
    "    'income_type' : ['business', 'civil servant', 'employee', 'retiree']\n",
    "}\n",
    "\n",
    "def valores_para_imputar(categoria, subcategoria, estadistica):\n",
    "\n",
    "    \n",
    "    if categoria == 'children':\n",
    "        if subcategoria == 0:\n",
    "            if estadistica == 'promedio':\n",
    "                return stat_children.loc[0][0]\n",
    "            return stat_children.loc[0][1]\n",
    "        if subcategoria == 1:\n",
    "            if estadistica == 'promedio':\n",
    "                return stat_children.loc[1][0]\n",
    "            return stat_children.loc[1][1]\n",
    "        if subcategoria == 2:\n",
    "            if estadistica == 'promedio':\n",
    "                return stat_children.loc[2][0]\n",
    "            return stat_children.loc[2][1]\n",
    "        if subcategoria == 3:\n",
    "            if estadistica == 'promedio':\n",
    "                return stat_children.loc[3][0]\n",
    "            return stat_children.loc[3][1]\n",
    "        if subcategoria == 4:\n",
    "            if estadistica == 'promedio':\n",
    "                return stat_children.loc[4][0]\n",
    "            return stat_children.loc[4][1]\n",
    "        if subcategoria == 5:\n",
    "            if estadistica == 'promedio':\n",
    "                return stat_children.loc[5][0]\n",
    "            return stat_children.loc[5][1]\n",
    "    if categoria == 'income_type':\n",
    "        if subcategoria == 'business':\n",
    "            if estadistica == 'promedio':\n",
    "                return stat_children.loc[0][0]\n",
    "            return stat_children.loc[0][1]\n",
    "        if subcategoria == 'civil servant':\n",
    "            if estadistica == 'promedio':\n",
    "                return stat_children.loc[1][0]\n",
    "            return stat_children.loc[1][1]\n",
    "        if subcategoria == 'employee':\n",
    "            if estadistica == 'promedio':\n",
    "                return stat_children.loc[2][0]\n",
    "            return stat_children.loc[2][1]\n",
    "        if subcategoria == 'retiree':\n",
    "            if estadistica == 'promedio':\n",
    "                return stat_children.loc[3][0]\n",
    "            return stat_children.loc[3][1]\n",
    "        "
   ]
  },
  {
   "cell_type": "code",
   "execution_count": 53,
   "metadata": {},
   "outputs": [
    {
     "name": "stdout",
     "output_type": "stream",
     "text": [
      "27372\n"
     ]
    }
   ],
   "source": [
    "# Comprobando si funciona\n",
    "print(valores_para_imputar('children', 1, 'promedio'))"
   ]
  },
  {
   "cell_type": "code",
   "execution_count": 54,
   "metadata": {},
   "outputs": [],
   "source": [
    "db_children = data_bank"
   ]
  },
  {
   "cell_type": "code",
   "execution_count": 55,
   "metadata": {},
   "outputs": [
    {
     "data": {
      "text/html": [
       "<div>\n",
       "<style scoped>\n",
       "    .dataframe tbody tr th:only-of-type {\n",
       "        vertical-align: middle;\n",
       "    }\n",
       "\n",
       "    .dataframe tbody tr th {\n",
       "        vertical-align: top;\n",
       "    }\n",
       "\n",
       "    .dataframe thead th {\n",
       "        text-align: right;\n",
       "    }\n",
       "</style>\n",
       "<table border=\"1\" class=\"dataframe\">\n",
       "  <thead>\n",
       "    <tr style=\"text-align: right;\">\n",
       "      <th></th>\n",
       "      <th>children</th>\n",
       "      <th>days_employed</th>\n",
       "      <th>dob_years</th>\n",
       "      <th>education</th>\n",
       "      <th>education_id</th>\n",
       "      <th>family_status</th>\n",
       "      <th>family_status_id</th>\n",
       "      <th>gender</th>\n",
       "      <th>income_type</th>\n",
       "      <th>debt</th>\n",
       "      <th>total_income</th>\n",
       "      <th>purpose</th>\n",
       "      <th>age_group</th>\n",
       "    </tr>\n",
       "  </thead>\n",
       "  <tbody>\n",
       "    <tr>\n",
       "      <th>0</th>\n",
       "      <td>1</td>\n",
       "      <td>8437</td>\n",
       "      <td>42</td>\n",
       "      <td>bachelor's degree</td>\n",
       "      <td>0</td>\n",
       "      <td>married</td>\n",
       "      <td>0</td>\n",
       "      <td>F</td>\n",
       "      <td>employee</td>\n",
       "      <td>0</td>\n",
       "      <td>40620.102</td>\n",
       "      <td>purchase_house</td>\n",
       "      <td>adult</td>\n",
       "    </tr>\n",
       "    <tr>\n",
       "      <th>1</th>\n",
       "      <td>1</td>\n",
       "      <td>4024</td>\n",
       "      <td>36</td>\n",
       "      <td>secondary education</td>\n",
       "      <td>1</td>\n",
       "      <td>married</td>\n",
       "      <td>0</td>\n",
       "      <td>F</td>\n",
       "      <td>employee</td>\n",
       "      <td>0</td>\n",
       "      <td>17932.802</td>\n",
       "      <td>purchase_car</td>\n",
       "      <td>middle_adult</td>\n",
       "    </tr>\n",
       "    <tr>\n",
       "      <th>2</th>\n",
       "      <td>0</td>\n",
       "      <td>5623</td>\n",
       "      <td>33</td>\n",
       "      <td>Secondary Education</td>\n",
       "      <td>1</td>\n",
       "      <td>married</td>\n",
       "      <td>0</td>\n",
       "      <td>M</td>\n",
       "      <td>employee</td>\n",
       "      <td>0</td>\n",
       "      <td>23341.752</td>\n",
       "      <td>purchase_house</td>\n",
       "      <td>middle_adult</td>\n",
       "    </tr>\n",
       "    <tr>\n",
       "      <th>3</th>\n",
       "      <td>3</td>\n",
       "      <td>4124</td>\n",
       "      <td>32</td>\n",
       "      <td>secondary education</td>\n",
       "      <td>1</td>\n",
       "      <td>married</td>\n",
       "      <td>0</td>\n",
       "      <td>M</td>\n",
       "      <td>employee</td>\n",
       "      <td>0</td>\n",
       "      <td>42820.568</td>\n",
       "      <td>education</td>\n",
       "      <td>middle_adult</td>\n",
       "    </tr>\n",
       "    <tr>\n",
       "      <th>4</th>\n",
       "      <td>0</td>\n",
       "      <td>1354</td>\n",
       "      <td>53</td>\n",
       "      <td>secondary education</td>\n",
       "      <td>1</td>\n",
       "      <td>civil_partnership</td>\n",
       "      <td>1</td>\n",
       "      <td>F</td>\n",
       "      <td>retiree</td>\n",
       "      <td>0</td>\n",
       "      <td>25378.572</td>\n",
       "      <td>wedding</td>\n",
       "      <td>old_adult</td>\n",
       "    </tr>\n",
       "    <tr>\n",
       "      <th>...</th>\n",
       "      <td>...</td>\n",
       "      <td>...</td>\n",
       "      <td>...</td>\n",
       "      <td>...</td>\n",
       "      <td>...</td>\n",
       "      <td>...</td>\n",
       "      <td>...</td>\n",
       "      <td>...</td>\n",
       "      <td>...</td>\n",
       "      <td>...</td>\n",
       "      <td>...</td>\n",
       "      <td>...</td>\n",
       "      <td>...</td>\n",
       "    </tr>\n",
       "    <tr>\n",
       "      <th>21520</th>\n",
       "      <td>1</td>\n",
       "      <td>4529</td>\n",
       "      <td>43</td>\n",
       "      <td>secondary education</td>\n",
       "      <td>1</td>\n",
       "      <td>civil_partnership</td>\n",
       "      <td>1</td>\n",
       "      <td>F</td>\n",
       "      <td>business</td>\n",
       "      <td>0</td>\n",
       "      <td>35966.698</td>\n",
       "      <td>purchase_house</td>\n",
       "      <td>adult</td>\n",
       "    </tr>\n",
       "    <tr>\n",
       "      <th>21521</th>\n",
       "      <td>0</td>\n",
       "      <td>1354</td>\n",
       "      <td>67</td>\n",
       "      <td>secondary education</td>\n",
       "      <td>1</td>\n",
       "      <td>married</td>\n",
       "      <td>0</td>\n",
       "      <td>F</td>\n",
       "      <td>retiree</td>\n",
       "      <td>0</td>\n",
       "      <td>24959.969</td>\n",
       "      <td>purchase_car</td>\n",
       "      <td>retired</td>\n",
       "    </tr>\n",
       "    <tr>\n",
       "      <th>21522</th>\n",
       "      <td>1</td>\n",
       "      <td>2113</td>\n",
       "      <td>38</td>\n",
       "      <td>secondary education</td>\n",
       "      <td>1</td>\n",
       "      <td>civil_partnership</td>\n",
       "      <td>1</td>\n",
       "      <td>M</td>\n",
       "      <td>employee</td>\n",
       "      <td>1</td>\n",
       "      <td>14347.61</td>\n",
       "      <td>real_estate</td>\n",
       "      <td>middle_adult</td>\n",
       "    </tr>\n",
       "    <tr>\n",
       "      <th>21523</th>\n",
       "      <td>3</td>\n",
       "      <td>3112</td>\n",
       "      <td>38</td>\n",
       "      <td>secondary education</td>\n",
       "      <td>1</td>\n",
       "      <td>married</td>\n",
       "      <td>0</td>\n",
       "      <td>M</td>\n",
       "      <td>employee</td>\n",
       "      <td>1</td>\n",
       "      <td>39054.888</td>\n",
       "      <td>purchase_car</td>\n",
       "      <td>middle_adult</td>\n",
       "    </tr>\n",
       "    <tr>\n",
       "      <th>21524</th>\n",
       "      <td>2</td>\n",
       "      <td>1984</td>\n",
       "      <td>40</td>\n",
       "      <td>secondary education</td>\n",
       "      <td>1</td>\n",
       "      <td>married</td>\n",
       "      <td>0</td>\n",
       "      <td>F</td>\n",
       "      <td>employee</td>\n",
       "      <td>0</td>\n",
       "      <td>13127.587</td>\n",
       "      <td>purchase_car</td>\n",
       "      <td>middle_adult</td>\n",
       "    </tr>\n",
       "  </tbody>\n",
       "</table>\n",
       "<p>21464 rows × 13 columns</p>\n",
       "</div>"
      ],
      "text/plain": [
       "       children  days_employed  dob_years            education  education_id  \\\n",
       "0             1           8437         42    bachelor's degree             0   \n",
       "1             1           4024         36  secondary education             1   \n",
       "2             0           5623         33  Secondary Education             1   \n",
       "3             3           4124         32  secondary education             1   \n",
       "4             0           1354         53  secondary education             1   \n",
       "...         ...            ...        ...                  ...           ...   \n",
       "21520         1           4529         43  secondary education             1   \n",
       "21521         0           1354         67  secondary education             1   \n",
       "21522         1           2113         38  secondary education             1   \n",
       "21523         3           3112         38  secondary education             1   \n",
       "21524         2           1984         40  secondary education             1   \n",
       "\n",
       "           family_status  family_status_id gender income_type  debt  \\\n",
       "0                married                 0      F    employee     0   \n",
       "1                married                 0      F    employee     0   \n",
       "2                married                 0      M    employee     0   \n",
       "3                married                 0      M    employee     0   \n",
       "4      civil_partnership                 1      F     retiree     0   \n",
       "...                  ...               ...    ...         ...   ...   \n",
       "21520  civil_partnership                 1      F    business     0   \n",
       "21521            married                 0      F     retiree     0   \n",
       "21522  civil_partnership                 1      M    employee     1   \n",
       "21523            married                 0      M    employee     1   \n",
       "21524            married                 0      F    employee     0   \n",
       "\n",
       "      total_income         purpose     age_group  \n",
       "0        40620.102  purchase_house         adult  \n",
       "1        17932.802    purchase_car  middle_adult  \n",
       "2        23341.752  purchase_house  middle_adult  \n",
       "3        42820.568       education  middle_adult  \n",
       "4        25378.572         wedding     old_adult  \n",
       "...            ...             ...           ...  \n",
       "21520    35966.698  purchase_house         adult  \n",
       "21521    24959.969    purchase_car       retired  \n",
       "21522     14347.61     real_estate  middle_adult  \n",
       "21523    39054.888    purchase_car  middle_adult  \n",
       "21524    13127.587    purchase_car  middle_adult  \n",
       "\n",
       "[21464 rows x 13 columns]"
      ]
     },
     "execution_count": 55,
     "metadata": {},
     "output_type": "execute_result"
    }
   ],
   "source": [
    "# Comprobando si tenemos errores\n",
    "db_children = db_children.fillna(' ')\n",
    "db_children"
   ]
  },
  {
   "cell_type": "code",
   "execution_count": 56,
   "metadata": {},
   "outputs": [
    {
     "data": {
      "text/html": [
       "<div>\n",
       "<style scoped>\n",
       "    .dataframe tbody tr th:only-of-type {\n",
       "        vertical-align: middle;\n",
       "    }\n",
       "\n",
       "    .dataframe tbody tr th {\n",
       "        vertical-align: top;\n",
       "    }\n",
       "\n",
       "    .dataframe thead th {\n",
       "        text-align: right;\n",
       "    }\n",
       "</style>\n",
       "<table border=\"1\" class=\"dataframe\">\n",
       "  <thead>\n",
       "    <tr style=\"text-align: right;\">\n",
       "      <th></th>\n",
       "      <th>children</th>\n",
       "      <th>days_employed</th>\n",
       "      <th>dob_years</th>\n",
       "      <th>education</th>\n",
       "      <th>education_id</th>\n",
       "      <th>family_status</th>\n",
       "      <th>family_status_id</th>\n",
       "      <th>gender</th>\n",
       "      <th>income_type</th>\n",
       "      <th>debt</th>\n",
       "      <th>total_income</th>\n",
       "      <th>purpose</th>\n",
       "      <th>age_group</th>\n",
       "    </tr>\n",
       "  </thead>\n",
       "  <tbody>\n",
       "    <tr>\n",
       "      <th>0</th>\n",
       "      <td>1</td>\n",
       "      <td>8437</td>\n",
       "      <td>42</td>\n",
       "      <td>bachelor's degree</td>\n",
       "      <td>0</td>\n",
       "      <td>married</td>\n",
       "      <td>0</td>\n",
       "      <td>F</td>\n",
       "      <td>employee</td>\n",
       "      <td>0</td>\n",
       "      <td>40620</td>\n",
       "      <td>purchase_house</td>\n",
       "      <td>adult</td>\n",
       "    </tr>\n",
       "    <tr>\n",
       "      <th>1</th>\n",
       "      <td>1</td>\n",
       "      <td>4024</td>\n",
       "      <td>36</td>\n",
       "      <td>secondary education</td>\n",
       "      <td>1</td>\n",
       "      <td>married</td>\n",
       "      <td>0</td>\n",
       "      <td>F</td>\n",
       "      <td>employee</td>\n",
       "      <td>0</td>\n",
       "      <td>17932</td>\n",
       "      <td>purchase_car</td>\n",
       "      <td>middle_adult</td>\n",
       "    </tr>\n",
       "    <tr>\n",
       "      <th>2</th>\n",
       "      <td>0</td>\n",
       "      <td>5623</td>\n",
       "      <td>33</td>\n",
       "      <td>Secondary Education</td>\n",
       "      <td>1</td>\n",
       "      <td>married</td>\n",
       "      <td>0</td>\n",
       "      <td>M</td>\n",
       "      <td>employee</td>\n",
       "      <td>0</td>\n",
       "      <td>23341</td>\n",
       "      <td>purchase_house</td>\n",
       "      <td>middle_adult</td>\n",
       "    </tr>\n",
       "    <tr>\n",
       "      <th>3</th>\n",
       "      <td>3</td>\n",
       "      <td>4124</td>\n",
       "      <td>32</td>\n",
       "      <td>secondary education</td>\n",
       "      <td>1</td>\n",
       "      <td>married</td>\n",
       "      <td>0</td>\n",
       "      <td>M</td>\n",
       "      <td>employee</td>\n",
       "      <td>0</td>\n",
       "      <td>42820</td>\n",
       "      <td>education</td>\n",
       "      <td>middle_adult</td>\n",
       "    </tr>\n",
       "    <tr>\n",
       "      <th>4</th>\n",
       "      <td>0</td>\n",
       "      <td>1354</td>\n",
       "      <td>53</td>\n",
       "      <td>secondary education</td>\n",
       "      <td>1</td>\n",
       "      <td>civil_partnership</td>\n",
       "      <td>1</td>\n",
       "      <td>F</td>\n",
       "      <td>retiree</td>\n",
       "      <td>0</td>\n",
       "      <td>25378</td>\n",
       "      <td>wedding</td>\n",
       "      <td>old_adult</td>\n",
       "    </tr>\n",
       "    <tr>\n",
       "      <th>...</th>\n",
       "      <td>...</td>\n",
       "      <td>...</td>\n",
       "      <td>...</td>\n",
       "      <td>...</td>\n",
       "      <td>...</td>\n",
       "      <td>...</td>\n",
       "      <td>...</td>\n",
       "      <td>...</td>\n",
       "      <td>...</td>\n",
       "      <td>...</td>\n",
       "      <td>...</td>\n",
       "      <td>...</td>\n",
       "      <td>...</td>\n",
       "    </tr>\n",
       "    <tr>\n",
       "      <th>21520</th>\n",
       "      <td>1</td>\n",
       "      <td>4529</td>\n",
       "      <td>43</td>\n",
       "      <td>secondary education</td>\n",
       "      <td>1</td>\n",
       "      <td>civil_partnership</td>\n",
       "      <td>1</td>\n",
       "      <td>F</td>\n",
       "      <td>business</td>\n",
       "      <td>0</td>\n",
       "      <td>35966</td>\n",
       "      <td>purchase_house</td>\n",
       "      <td>adult</td>\n",
       "    </tr>\n",
       "    <tr>\n",
       "      <th>21521</th>\n",
       "      <td>0</td>\n",
       "      <td>1354</td>\n",
       "      <td>67</td>\n",
       "      <td>secondary education</td>\n",
       "      <td>1</td>\n",
       "      <td>married</td>\n",
       "      <td>0</td>\n",
       "      <td>F</td>\n",
       "      <td>retiree</td>\n",
       "      <td>0</td>\n",
       "      <td>24959</td>\n",
       "      <td>purchase_car</td>\n",
       "      <td>retired</td>\n",
       "    </tr>\n",
       "    <tr>\n",
       "      <th>21522</th>\n",
       "      <td>1</td>\n",
       "      <td>2113</td>\n",
       "      <td>38</td>\n",
       "      <td>secondary education</td>\n",
       "      <td>1</td>\n",
       "      <td>civil_partnership</td>\n",
       "      <td>1</td>\n",
       "      <td>M</td>\n",
       "      <td>employee</td>\n",
       "      <td>1</td>\n",
       "      <td>14347</td>\n",
       "      <td>real_estate</td>\n",
       "      <td>middle_adult</td>\n",
       "    </tr>\n",
       "    <tr>\n",
       "      <th>21523</th>\n",
       "      <td>3</td>\n",
       "      <td>3112</td>\n",
       "      <td>38</td>\n",
       "      <td>secondary education</td>\n",
       "      <td>1</td>\n",
       "      <td>married</td>\n",
       "      <td>0</td>\n",
       "      <td>M</td>\n",
       "      <td>employee</td>\n",
       "      <td>1</td>\n",
       "      <td>39054</td>\n",
       "      <td>purchase_car</td>\n",
       "      <td>middle_adult</td>\n",
       "    </tr>\n",
       "    <tr>\n",
       "      <th>21524</th>\n",
       "      <td>2</td>\n",
       "      <td>1984</td>\n",
       "      <td>40</td>\n",
       "      <td>secondary education</td>\n",
       "      <td>1</td>\n",
       "      <td>married</td>\n",
       "      <td>0</td>\n",
       "      <td>F</td>\n",
       "      <td>employee</td>\n",
       "      <td>0</td>\n",
       "      <td>13127</td>\n",
       "      <td>purchase_car</td>\n",
       "      <td>middle_adult</td>\n",
       "    </tr>\n",
       "  </tbody>\n",
       "</table>\n",
       "<p>21464 rows × 13 columns</p>\n",
       "</div>"
      ],
      "text/plain": [
       "       children  days_employed  dob_years            education  education_id  \\\n",
       "0             1           8437         42    bachelor's degree             0   \n",
       "1             1           4024         36  secondary education             1   \n",
       "2             0           5623         33  Secondary Education             1   \n",
       "3             3           4124         32  secondary education             1   \n",
       "4             0           1354         53  secondary education             1   \n",
       "...         ...            ...        ...                  ...           ...   \n",
       "21520         1           4529         43  secondary education             1   \n",
       "21521         0           1354         67  secondary education             1   \n",
       "21522         1           2113         38  secondary education             1   \n",
       "21523         3           3112         38  secondary education             1   \n",
       "21524         2           1984         40  secondary education             1   \n",
       "\n",
       "           family_status  family_status_id gender income_type  debt  \\\n",
       "0                married                 0      F    employee     0   \n",
       "1                married                 0      F    employee     0   \n",
       "2                married                 0      M    employee     0   \n",
       "3                married                 0      M    employee     0   \n",
       "4      civil_partnership                 1      F     retiree     0   \n",
       "...                  ...               ...    ...         ...   ...   \n",
       "21520  civil_partnership                 1      F    business     0   \n",
       "21521            married                 0      F     retiree     0   \n",
       "21522  civil_partnership                 1      M    employee     1   \n",
       "21523            married                 0      M    employee     1   \n",
       "21524            married                 0      F    employee     0   \n",
       "\n",
       "       total_income         purpose     age_group  \n",
       "0             40620  purchase_house         adult  \n",
       "1             17932    purchase_car  middle_adult  \n",
       "2             23341  purchase_house  middle_adult  \n",
       "3             42820       education  middle_adult  \n",
       "4             25378         wedding     old_adult  \n",
       "...             ...             ...           ...  \n",
       "21520         35966  purchase_house         adult  \n",
       "21521         24959    purchase_car       retired  \n",
       "21522         14347     real_estate  middle_adult  \n",
       "21523         39054    purchase_car  middle_adult  \n",
       "21524         13127    purchase_car  middle_adult  \n",
       "\n",
       "[21464 rows x 13 columns]"
      ]
     },
     "execution_count": 56,
     "metadata": {},
     "output_type": "execute_result"
    }
   ],
   "source": [
    "# Reemplazar los valores ausentes si hay algún error\n",
    "db_children.loc[(db_children['children']==0)&(db_children['total_income']==' '), 'total_income'] = valores_para_imputar('children', 0, 'promedio')\n",
    "db_children.loc[(db_children['children']==1)&(db_children['total_income']==' '), 'total_income'] = valores_para_imputar('children', 1, 'promedio')\n",
    "db_children.loc[(db_children['children']==2)&(db_children['total_income']==' '), 'total_income'] = valores_para_imputar('children', 2, 'promedio')\n",
    "db_children.loc[(db_children['children']==3)&(db_children['total_income']==' '), 'total_income'] = valores_para_imputar('children', 3, 'promedio')\n",
    "db_children.loc[(db_children['children']==4)&(db_children['total_income']==' '), 'total_income'] = valores_para_imputar('children', 4, 'promedio')\n",
    "db_children.loc[(db_children['children']==5)&(db_children['total_income']==' '), 'total_income'] = valores_para_imputar('children', 5, 'promedio')\n",
    "db_children['total_income'] = db_children['total_income'].astype(int)\n",
    "db_children"
   ]
  },
  {
   "cell_type": "code",
   "execution_count": 57,
   "metadata": {},
   "outputs": [
    {
     "name": "stdout",
     "output_type": "stream",
     "text": [
      "<class 'pandas.core.frame.DataFrame'>\n",
      "Int64Index: 21464 entries, 0 to 21524\n",
      "Data columns (total 13 columns):\n",
      " #   Column            Non-Null Count  Dtype \n",
      "---  ------            --------------  ----- \n",
      " 0   children          21464 non-null  int64 \n",
      " 1   days_employed     21464 non-null  int32 \n",
      " 2   dob_years         21464 non-null  int32 \n",
      " 3   education         21464 non-null  object\n",
      " 4   education_id      21464 non-null  int64 \n",
      " 5   family_status     21464 non-null  object\n",
      " 6   family_status_id  21464 non-null  int64 \n",
      " 7   gender            21464 non-null  object\n",
      " 8   income_type       21464 non-null  object\n",
      " 9   debt              21464 non-null  int64 \n",
      " 10  total_income      21464 non-null  int32 \n",
      " 11  purpose           21464 non-null  object\n",
      " 12  age_group         21464 non-null  object\n",
      "dtypes: int32(3), int64(4), object(6)\n",
      "memory usage: 2.0+ MB\n"
     ]
    }
   ],
   "source": [
    "# Comprobar el número de entradas en las columnas\n",
    "db_children.info()"
   ]
  },
  {
   "cell_type": "markdown",
   "metadata": {},
   "source": [
    "###  Restaurar valores en `days_employed`"
   ]
  },
  {
   "cell_type": "markdown",
   "metadata": {},
   "source": [
    "Para restaurar los valores de `days_employed` lo que vamos a evaluar son las variables categóricas de `dob_years` y `education`, ya que son las categorías que más influyen en los días trabajados de una persona. Depués de analizar, se ha llegado a la conclusión de que se eligirá la variable categórica `dob_years` ya que entre más edad tenga una persona es más probable que haya trabajado por más días a diferencia de `education` que, si bien influye en los días trabajados de una persona, no es un parámetro tan confiable ya que una persona puede estudiar y trabajar al mismo tiempo."
   ]
  },
  {
   "cell_type": "code",
   "execution_count": 58,
   "metadata": {
    "pycharm": {
     "name": "#%%\n"
    }
   },
   "outputs": [
    {
     "name": "stdout",
     "output_type": "stream",
     "text": [
      "age_group\n",
      "adult           2741\n",
      "middle_adult    2084\n",
      "old_adult       2384\n",
      "retired         1733\n",
      "young_men       1279\n",
      "Name: (days_employed, mean), dtype: int32\n"
     ]
    }
   ],
   "source": [
    "# Distribución de medias y medianas de `days_employed` en función de los parámetros identificados\n",
    "\n",
    "#***stat_age_group***  es la media y la mediana de los valores dependientes del grupo de edad.\n",
    "idx = data_bank[data_bank['days_employed']==0].index\n",
    "db_days_employed = data_bank.drop(idx, axis=0)\n",
    "stat_age_group = db_days_employed.groupby('age_group').agg({'days_employed':['mean','median']}).astype(int)\n",
    "print(stat_age_group['days_employed','mean'])"
   ]
  },
  {
   "cell_type": "markdown",
   "metadata": {},
   "source": [
    "Debido a la **distribución sesgada** que estan reflejando los valores atípicos del grupo de edad con la media y la mediana, se optará por utilizar mejor la mediana antes que la media para impotar los valores de `days_employed`."
   ]
  },
  {
   "cell_type": "code",
   "execution_count": 59,
   "metadata": {},
   "outputs": [],
   "source": [
    "# Escribamos una función que calcule medias o medianas (dependiendo de tu decisión) según el parámetro identificado\n",
    "\n",
    "dic_gpo_edad = {\n",
    "    'age_group' : ['adult','middle_adult','old_adult','retired','young_men']\n",
    "}\n",
    "\n",
    "def imputar_valores_days_employed(gpo_edad, stat):\n",
    "    if gpo_edad == 'adult':\n",
    "        if stat == 'promedio':\n",
    "            return stat_age_group['days_employed','mean'][0]\n",
    "        return stat_age_group['days_employed','median'][0]\n",
    "    if gpo_edad == 'middle_adult':\n",
    "        if stat == 'promedio':\n",
    "            return stat_age_group['days_employed','mean'][1]\n",
    "        return stat_age_group['days_employed','median'][1]\n",
    "    if gpo_edad == 'old_adult':\n",
    "        if stat == 'promedio':\n",
    "            return stat_age_group['days_employed','mean'][2]\n",
    "        return stat_age_group['days_employed','median'][2]\n",
    "    if gpo_edad == 'retired':\n",
    "        if stat == 'promedio':\n",
    "            return stat_age_group['days_employed','mean'][3]\n",
    "        return stat_age_group['days_employed','median'][3]\n",
    "    if gpo_edad == 'young_men':\n",
    "        if stat == 'promedio':\n",
    "            return stat_age_group['days_employed','mean'][4]\n",
    "        return stat_age_group['days_employed','median'][4]"
   ]
  },
  {
   "cell_type": "code",
   "execution_count": 60,
   "metadata": {},
   "outputs": [
    {
     "name": "stdout",
     "output_type": "stream",
     "text": [
      "2741\n",
      "1931\n",
      "2084\n",
      "1601\n",
      "2384\n",
      "1354\n",
      "1733\n",
      "1354\n",
      "1279\n",
      "1046\n"
     ]
    }
   ],
   "source": [
    "# Comprobando la función\n",
    "\n",
    "age_group = ['adult','middle_adult','old_adult','retired','young_men']\n",
    "\n",
    "for i in age_group:\n",
    "    print(imputar_valores_days_employed(i,'promedio'))\n",
    "    print(imputar_valores_days_employed(i,'mediana'))\n"
   ]
  },
  {
   "cell_type": "code",
   "execution_count": 61,
   "metadata": {},
   "outputs": [],
   "source": [
    "db_final = db_children"
   ]
  },
  {
   "cell_type": "code",
   "execution_count": 62,
   "metadata": {},
   "outputs": [],
   "source": [
    "# Reemplazar valores ausentes con base en el grupo de edad.\n",
    "\n",
    "age_group = ['adult','middle_adult','old_adult','retired','young_men']\n",
    "\n",
    "db_final.loc[(db_final['age_group'] == 'adult') & (db_final['days_employed'] == 0), 'days_employed'] = imputar_valores_days_employed('adult', 'mediana')\n",
    "db_final.loc[(db_final['age_group'] == 'middle_adult') & (db_final['days_employed'] == 0), 'days_employed'] = imputar_valores_days_employed('middle_adult', 'mediana')\n",
    "db_final.loc[(db_final['age_group'] == 'old_adult') & (db_final['days_employed'] == 0), 'days_employed'] = imputar_valores_days_employed('old_adult', 'mediana')\n",
    "db_final.loc[(db_final['age_group'] == 'retired') & (db_final['days_employed'] == 0), 'days_employed'] = imputar_valores_days_employed('retired', 'mediana')\n",
    "db_final.loc[(db_final['age_group'] == 'young_men') & (db_final['days_employed'] == 0), 'days_employed'] = imputar_valores_days_employed('young_men', 'mediana')\n"
   ]
  },
  {
   "cell_type": "code",
   "execution_count": 63,
   "metadata": {},
   "outputs": [
    {
     "name": "stdout",
     "output_type": "stream",
     "text": [
      "<class 'pandas.core.frame.DataFrame'>\n",
      "Int64Index: 21464 entries, 0 to 21524\n",
      "Data columns (total 13 columns):\n",
      " #   Column            Non-Null Count  Dtype \n",
      "---  ------            --------------  ----- \n",
      " 0   children          21464 non-null  int64 \n",
      " 1   days_employed     21464 non-null  int32 \n",
      " 2   dob_years         21464 non-null  int32 \n",
      " 3   education         21464 non-null  object\n",
      " 4   education_id      21464 non-null  int64 \n",
      " 5   family_status     21464 non-null  object\n",
      " 6   family_status_id  21464 non-null  int64 \n",
      " 7   gender            21464 non-null  object\n",
      " 8   income_type       21464 non-null  object\n",
      " 9   debt              21464 non-null  int64 \n",
      " 10  total_income      21464 non-null  int32 \n",
      " 11  purpose           21464 non-null  object\n",
      " 12  age_group         21464 non-null  object\n",
      "dtypes: int32(3), int64(4), object(6)\n",
      "memory usage: 2.6+ MB\n"
     ]
    }
   ],
   "source": [
    "# Comprobando las entradas en todas las columnas\n",
    "db_final.info()"
   ]
  },
  {
   "cell_type": "markdown",
   "metadata": {},
   "source": [
    "## Clasificación de datos\n",
    "\n",
    "Son dos las categorias donde es necesario categorizar datos, una de ellas es la edad `dob_years` (previo a este punto ya se había optado por una agrupación de edad) y otra categoría es `total_income`, esto es debido a que no podemos agrupar por valores únicos ya que son extensos y es necesario sintetizar los datos para obtener rangos categóricos con efecto estadístico."
   ]
  },
  {
   "cell_type": "code",
   "execution_count": 64,
   "metadata": {
    "scrolled": true
   },
   "outputs": [
    {
     "name": "stdout",
     "output_type": "stream",
     "text": [
      "0    14102\n",
      "1     4855\n",
      "2     2127\n",
      "3      330\n",
      "4       41\n",
      "5        9\n",
      "Name: children, dtype: int64\n"
     ]
    }
   ],
   "source": [
    "# Mostrando los valores de los datos seleccionados para la clasificación\n",
    "clasification_values = ('debt', 'total_income','income_type','family_status','purpose','children')\n",
    "db_clasification = db_final.loc[:, clasification_values]\n",
    "print(db_clasification['children'].value_counts())"
   ]
  },
  {
   "cell_type": "code",
   "execution_count": 65,
   "metadata": {},
   "outputs": [
    {
     "name": "stdout",
     "output_type": "stream",
     "text": [
      "15386\n"
     ]
    }
   ],
   "source": [
    "# Comprobar los valores únicos\n",
    "print(db_clasification['total_income'].unique().size)"
   ]
  },
  {
   "cell_type": "code",
   "execution_count": 66,
   "metadata": {},
   "outputs": [
    {
     "name": "stdout",
     "output_type": "stream",
     "text": [
      "Valor mínimo de \"total_income\":\n",
      "3306\n",
      "---------------------------------------------\n",
      "Valor máximo de \"total_income\":\n",
      "362496\n",
      "---------------------------------------------\n",
      "Promedio de los valores de \"total_income\":\n",
      "26786.29952478569\n",
      "---------------------------------------------\n",
      "Mediana de los valores de \"total_income\":\n",
      "24975.5\n"
     ]
    }
   ],
   "source": [
    "# Vamos entonces a clasificar los datos de la columna `total_income`:\n",
    "# Escribamos una función para clasificar los datos en función de temas comunes\n",
    "print('Valor mínimo de \"total_income\":')\n",
    "print(db_clasification['total_income'].min())\n",
    "print('-'*45)\n",
    "print('Valor máximo de \"total_income\":')\n",
    "print(db_clasification['total_income'].max())\n",
    "print('-'*45)\n",
    "print('Promedio de los valores de \"total_income\":')\n",
    "print(db_clasification['total_income'].mean())\n",
    "print('-'*45)\n",
    "print('Mediana de los valores de \"total_income\":')\n",
    "print(db_clasification['total_income'].median())\n",
    "\n",
    "def total_income_group(income):\n",
    "    if income <= 10000:\n",
    "        return '0_to_10k'\n",
    "    if income <= 20000:\n",
    "        return '10k_to_20k'\n",
    "    if income <= 30000:\n",
    "        return '20k_to_30k'\n",
    "    if income <= 40000:\n",
    "        return '30k_to_40k'\n",
    "    if income <= 50000:\n",
    "        return '40k_to_50k'\n",
    "    return 'more_than_50k'"
   ]
  },
  {
   "cell_type": "code",
   "execution_count": 67,
   "metadata": {},
   "outputs": [
    {
     "name": "stdout",
     "output_type": "stream",
     "text": [
      "0        40k_to_50k\n",
      "1        10k_to_20k\n",
      "2        20k_to_30k\n",
      "3        40k_to_50k\n",
      "4        20k_to_30k\n",
      "            ...    \n",
      "21520    30k_to_40k\n",
      "21521    20k_to_30k\n",
      "21522    10k_to_20k\n",
      "21523    30k_to_40k\n",
      "21524    10k_to_20k\n",
      "Name: total_income_group, Length: 21464, dtype: object\n"
     ]
    }
   ],
   "source": [
    "# Creando una columna con las categorías\n",
    "db_clasification['total_income_group'] = db_clasification['total_income'].apply(total_income_group)\n",
    "print(db_clasification['total_income_group'])"
   ]
  },
  {
   "cell_type": "code",
   "execution_count": 68,
   "metadata": {},
   "outputs": [
    {
     "name": "stdout",
     "output_type": "stream",
     "text": [
      "20k_to_30k       8181\n",
      "10k_to_20k       6442\n",
      "30k_to_40k       3105\n",
      "40k_to_50k       1492\n",
      "more_than_50k    1319\n",
      "0_to_10k          925\n",
      "Name: total_income_group, dtype: int64\n"
     ]
    }
   ],
   "source": [
    "# Revisar todos los datos numéricos en la columna seleccionada para la clasificación\n",
    "print(db_clasification['total_income_group'].value_counts())"
   ]
  },
  {
   "cell_type": "code",
   "execution_count": 69,
   "metadata": {},
   "outputs": [
    {
     "name": "stdout",
     "output_type": "stream",
     "text": [
      "                   total_income                      \n",
      "                           mean median    min     max\n",
      "total_income_group                                   \n",
      "0_to_10k                   8101   8376   3306   10000\n",
      "10k_to_20k                15387  15575  10001   20000\n",
      "20k_to_30k                25127  26093  20001   29992\n",
      "30k_to_40k                34303  34064  30009   39998\n",
      "40k_to_50k                44056  43727  40020   49988\n",
      "more_than_50k             68618  60287  50012  362496\n"
     ]
    }
   ],
   "source": [
    "# Obtener estadísticas resumidas para la columna\n",
    "stat_db_total_income_group = db_clasification.groupby('total_income_group').agg({'total_income':['mean','median','min','max']}).astype(int)\n",
    "print(stat_db_total_income_group)"
   ]
  },
  {
   "cell_type": "markdown",
   "metadata": {},
   "source": [
    "Los rangos utilizados para clasificar `total_income` se propusieron debido a los datos estadísticos."
   ]
  },
  {
   "cell_type": "markdown",
   "metadata": {},
   "source": [
    "## Comprobación de las hipótesis\n"
   ]
  },
  {
   "cell_type": "markdown",
   "metadata": {},
   "source": [
    "**¿Existe una correlación entre tener hijos y pagar a tiempo?**"
   ]
  },
  {
   "cell_type": "code",
   "execution_count": 70,
   "metadata": {},
   "outputs": [
    {
     "data": {
      "text/html": [
       "<div>\n",
       "<style scoped>\n",
       "    .dataframe tbody tr th:only-of-type {\n",
       "        vertical-align: middle;\n",
       "    }\n",
       "\n",
       "    .dataframe tbody tr th {\n",
       "        vertical-align: top;\n",
       "    }\n",
       "\n",
       "    .dataframe thead th {\n",
       "        text-align: right;\n",
       "    }\n",
       "</style>\n",
       "<table border=\"1\" class=\"dataframe\">\n",
       "  <thead>\n",
       "    <tr style=\"text-align: right;\">\n",
       "      <th></th>\n",
       "      <th>children</th>\n",
       "      <th>rate_debt</th>\n",
       "    </tr>\n",
       "  </thead>\n",
       "  <tbody>\n",
       "    <tr>\n",
       "      <th>0</th>\n",
       "      <td>0</td>\n",
       "      <td>7.537938</td>\n",
       "    </tr>\n",
       "    <tr>\n",
       "      <th>1</th>\n",
       "      <td>1</td>\n",
       "      <td>9.145211</td>\n",
       "    </tr>\n",
       "    <tr>\n",
       "      <th>2</th>\n",
       "      <td>2</td>\n",
       "      <td>9.449929</td>\n",
       "    </tr>\n",
       "    <tr>\n",
       "      <th>3</th>\n",
       "      <td>3</td>\n",
       "      <td>8.181818</td>\n",
       "    </tr>\n",
       "    <tr>\n",
       "      <th>4</th>\n",
       "      <td>4</td>\n",
       "      <td>9.756098</td>\n",
       "    </tr>\n",
       "  </tbody>\n",
       "</table>\n",
       "</div>"
      ],
      "text/plain": [
       "   children  rate_debt\n",
       "0         0   7.537938\n",
       "1         1   9.145211\n",
       "2         2   9.449929\n",
       "3         3   8.181818\n",
       "4         4   9.756098"
      ]
     },
     "execution_count": 70,
     "metadata": {},
     "output_type": "execute_result"
    }
   ],
   "source": [
    "# Comprobando los datos sobre los hijos y los pagos puntuales\n",
    "db_debt_bychild = db_clasification.groupby(['debt','children']).agg({'children':'count'})\n",
    "# # Calcular la tasa de incumplimiento en función del número de hijos\n",
    "\n",
    "def porcentaje(value):\n",
    "    debt1 = db_debt_bychild['children'][1][value]\n",
    "    total_child = db_debt_bychild['children'][0][value] + db_debt_bychild['children'][1][value]\n",
    "    rate = debt1 / total_child *100\n",
    "    return rate\n",
    "\n",
    "columns = ['children','rate_debt']\n",
    "rate = []\n",
    "\n",
    "for i in range(0,5):\n",
    "    rate.append(porcentaje(i))\n",
    "\n",
    "data = {\n",
    "    'children':[0,1,2,3,4],\n",
    "    'rate_debt':rate\n",
    "}\n",
    "    \n",
    "rate_children_table = pd.DataFrame(data)\n",
    "rate_children_table"
   ]
  },
  {
   "cell_type": "markdown",
   "metadata": {},
   "source": [
    "**Conclusión**\n",
    "\n",
    "Con base en los resultados anteriores observamos que, el tener hijos aumenta alrededor de **1.5 %** la probabilidad de que el clinete no pague el préstamos llegando a aumentar ligeramente aumentando la cantidad de hijos, solo el tener 3 hijos (8.18%) disminuye un poco la tasa, pero aún sigue estando arriba del 7.5% observado para los que no tienen hijos."
   ]
  },
  {
   "cell_type": "markdown",
   "metadata": {},
   "source": [
    "**¿Existe una correlación entre la situación familiar y el pago a tiempo?**"
   ]
  },
  {
   "cell_type": "code",
   "execution_count": 71,
   "metadata": {},
   "outputs": [
    {
     "data": {
      "text/html": [
       "<div>\n",
       "<style scoped>\n",
       "    .dataframe tbody tr th:only-of-type {\n",
       "        vertical-align: middle;\n",
       "    }\n",
       "\n",
       "    .dataframe tbody tr th {\n",
       "        vertical-align: top;\n",
       "    }\n",
       "\n",
       "    .dataframe thead th {\n",
       "        text-align: right;\n",
       "    }\n",
       "</style>\n",
       "<table border=\"1\" class=\"dataframe\">\n",
       "  <thead>\n",
       "    <tr style=\"text-align: right;\">\n",
       "      <th></th>\n",
       "      <th>family_status</th>\n",
       "      <th>rate_debt</th>\n",
       "    </tr>\n",
       "  </thead>\n",
       "  <tbody>\n",
       "    <tr>\n",
       "      <th>0</th>\n",
       "      <td>married</td>\n",
       "      <td>7.527753</td>\n",
       "    </tr>\n",
       "    <tr>\n",
       "      <th>1</th>\n",
       "      <td>civil_partnership</td>\n",
       "      <td>9.326923</td>\n",
       "    </tr>\n",
       "    <tr>\n",
       "      <th>2</th>\n",
       "      <td>unmarried</td>\n",
       "      <td>9.754361</td>\n",
       "    </tr>\n",
       "    <tr>\n",
       "      <th>3</th>\n",
       "      <td>divorced</td>\n",
       "      <td>7.112971</td>\n",
       "    </tr>\n",
       "    <tr>\n",
       "      <th>4</th>\n",
       "      <td>widow_/_widower</td>\n",
       "      <td>6.569343</td>\n",
       "    </tr>\n",
       "  </tbody>\n",
       "</table>\n",
       "</div>"
      ],
      "text/plain": [
       "       family_status  rate_debt\n",
       "0            married   7.527753\n",
       "1  civil_partnership   9.326923\n",
       "2          unmarried   9.754361\n",
       "3           divorced   7.112971\n",
       "4    widow_/_widower   6.569343"
      ]
     },
     "execution_count": 71,
     "metadata": {},
     "output_type": "execute_result"
    }
   ],
   "source": [
    "# Comprobando los datos del estado familiar y los pagos a tiempo\n",
    "\n",
    "ev_deb_family_status = db_clasification.groupby('debt')['family_status'].value_counts()\n",
    "\n",
    "def porcentaje(value):\n",
    "    debt1 = ev_deb_family_status[1][value]\n",
    "    total_family = ev_deb_family_status[0][value] + ev_deb_family_status[1][value]\n",
    "    rate = debt1 / total_family *100\n",
    "    return rate\n",
    "\n",
    "# Calcular la tasa de incumplimiento basada en el estado familiar\n",
    "\n",
    "columns = ['family_status','rate_debt']\n",
    "rate = []\n",
    "\n",
    "for i in range(0,5):\n",
    "    rate.append(porcentaje(i))\n",
    "\n",
    "data = {\n",
    "    'family_status':['married','civil_partnership','unmarried','divorced','widow_/_widower'],\n",
    "    'rate_debt':rate\n",
    "}\n",
    "\n",
    "rate_family_status_table = pd.DataFrame(data)\n",
    "rate_family_status_table"
   ]
  },
  {
   "cell_type": "markdown",
   "metadata": {},
   "source": [
    "**Conclusión**\n",
    "\n",
    "A través del resultado anterior se infiere que personas solteras `unmarried` son el grupo de estado civil que es más probable a NO pagar su deuda, mientras que las personas viudas `widow_/_widower` es más probable que sí paguen un préstamo."
   ]
  },
  {
   "cell_type": "markdown",
   "metadata": {},
   "source": [
    "**¿Existe una correlación entre el nivel de ingresos y el pago a tiempo?**"
   ]
  },
  {
   "cell_type": "code",
   "execution_count": 72,
   "metadata": {},
   "outputs": [
    {
     "name": "stdout",
     "output_type": "stream",
     "text": [
      "debt  total_income_group\n",
      "0     20k_to_30k            7484\n",
      "      10k_to_20k            5892\n",
      "      30k_to_40k            2863\n",
      "      40k_to_50k            1390\n",
      "      more_than_50k         1227\n",
      "      0_to_10k               869\n",
      "1     20k_to_30k             697\n",
      "      10k_to_20k             550\n",
      "      30k_to_40k             242\n",
      "      40k_to_50k             102\n",
      "      more_than_50k           92\n",
      "      0_to_10k                56\n",
      "Name: total_income_group, dtype: int64\n",
      "\n",
      "--------------------------------------------------\n"
     ]
    },
    {
     "data": {
      "text/html": [
       "<div>\n",
       "<style scoped>\n",
       "    .dataframe tbody tr th:only-of-type {\n",
       "        vertical-align: middle;\n",
       "    }\n",
       "\n",
       "    .dataframe tbody tr th {\n",
       "        vertical-align: top;\n",
       "    }\n",
       "\n",
       "    .dataframe thead th {\n",
       "        text-align: right;\n",
       "    }\n",
       "</style>\n",
       "<table border=\"1\" class=\"dataframe\">\n",
       "  <thead>\n",
       "    <tr style=\"text-align: right;\">\n",
       "      <th></th>\n",
       "      <th>total_income_group</th>\n",
       "      <th>rate_debt</th>\n",
       "    </tr>\n",
       "  </thead>\n",
       "  <tbody>\n",
       "    <tr>\n",
       "      <th>0</th>\n",
       "      <td>20k_to_30k</td>\n",
       "      <td>8.519741</td>\n",
       "    </tr>\n",
       "    <tr>\n",
       "      <th>1</th>\n",
       "      <td>10k_to_20k</td>\n",
       "      <td>8.537721</td>\n",
       "    </tr>\n",
       "    <tr>\n",
       "      <th>2</th>\n",
       "      <td>30k_to_40k</td>\n",
       "      <td>7.793881</td>\n",
       "    </tr>\n",
       "    <tr>\n",
       "      <th>3</th>\n",
       "      <td>40k_to_50k</td>\n",
       "      <td>6.836461</td>\n",
       "    </tr>\n",
       "    <tr>\n",
       "      <th>4</th>\n",
       "      <td>more_than_50k</td>\n",
       "      <td>6.974981</td>\n",
       "    </tr>\n",
       "    <tr>\n",
       "      <th>5</th>\n",
       "      <td>0_to_10k</td>\n",
       "      <td>6.054054</td>\n",
       "    </tr>\n",
       "  </tbody>\n",
       "</table>\n",
       "</div>"
      ],
      "text/plain": [
       "  total_income_group  rate_debt\n",
       "0         20k_to_30k   8.519741\n",
       "1         10k_to_20k   8.537721\n",
       "2         30k_to_40k   7.793881\n",
       "3         40k_to_50k   6.836461\n",
       "4      more_than_50k   6.974981\n",
       "5           0_to_10k   6.054054"
      ]
     },
     "execution_count": 72,
     "metadata": {},
     "output_type": "execute_result"
    }
   ],
   "source": [
    "# Comprobando los datos del nivel de ingresos y los pagos a tiempo\n",
    "\n",
    "ev_deb_income = db_clasification.groupby('debt')['total_income_group'].value_counts()\n",
    "print(ev_deb_income)\n",
    "print()\n",
    "print('-'*50)\n",
    "# Calcular la tasa de incumplimiento basada en el nivel de ingresos\n",
    "\n",
    "def porcentaje(value):\n",
    "    debt1 = ev_deb_income[1][value]\n",
    "    total_income = ev_deb_income[0][value] + ev_deb_income[1][value]\n",
    "    rate = debt1 / total_income *100\n",
    "    return rate\n",
    "\n",
    "columns = ['total_income_group','rate_debt']\n",
    "rate = []\n",
    "\n",
    "for i in range(0,6):\n",
    "    rate.append(porcentaje(i))\n",
    "\n",
    "data = {\n",
    "    'total_income_group' : ['20k_to_30k','10k_to_20k','30k_to_40k','40k_to_50k','more_than_50k','0_to_10k'],\n",
    "    'rate_debt':rate\n",
    "}\n",
    "    \n",
    "rate_total_income_table = pd.DataFrame(data)\n",
    "rate_total_income_table"
   ]
  },
  {
   "cell_type": "markdown",
   "metadata": {},
   "source": [
    "**Conclusión**\n",
    "\n",
    "Con base en la tabla anterior se logra observar que el grupo de personas con ingresos entre **10 000** hasta **30 000** mensuales son las más probables de que incumplan con el pago total de la deuda, estos grupos tienen una tasa de incumplimiento de aproximadamente un **8.5 %**. Llama la atención que personas con ingresos menores de 10 000 mensuales tienen la tasa de incumplimiento más baja, es probable que se tenga que hacer una revisión adicional a ello."
   ]
  },
  {
   "cell_type": "markdown",
   "metadata": {},
   "source": [
    "**¿Cómo afecta el propósito del crédito a la tasa de incumplimiento?**"
   ]
  },
  {
   "cell_type": "code",
   "execution_count": 73,
   "metadata": {},
   "outputs": [
    {
     "data": {
      "text/html": [
       "<div>\n",
       "<style scoped>\n",
       "    .dataframe tbody tr th:only-of-type {\n",
       "        vertical-align: middle;\n",
       "    }\n",
       "\n",
       "    .dataframe tbody tr th {\n",
       "        vertical-align: top;\n",
       "    }\n",
       "\n",
       "    .dataframe thead th {\n",
       "        text-align: right;\n",
       "    }\n",
       "</style>\n",
       "<table border=\"1\" class=\"dataframe\">\n",
       "  <thead>\n",
       "    <tr style=\"text-align: right;\">\n",
       "      <th></th>\n",
       "      <th>purpose</th>\n",
       "      <th>rate_debt</th>\n",
       "    </tr>\n",
       "  </thead>\n",
       "  <tbody>\n",
       "    <tr>\n",
       "      <th>0</th>\n",
       "      <td>rate_real_estate</td>\n",
       "      <td>7.464567</td>\n",
       "    </tr>\n",
       "    <tr>\n",
       "      <th>1</th>\n",
       "      <td>rate_purchase_house</td>\n",
       "      <td>6.884952</td>\n",
       "    </tr>\n",
       "    <tr>\n",
       "      <th>2</th>\n",
       "      <td>rate_purchase_car</td>\n",
       "      <td>9.333643</td>\n",
       "    </tr>\n",
       "    <tr>\n",
       "      <th>3</th>\n",
       "      <td>rate_education</td>\n",
       "      <td>9.217738</td>\n",
       "    </tr>\n",
       "    <tr>\n",
       "      <th>4</th>\n",
       "      <td>rate_wedding</td>\n",
       "      <td>7.969152</td>\n",
       "    </tr>\n",
       "  </tbody>\n",
       "</table>\n",
       "</div>"
      ],
      "text/plain": [
       "               purpose  rate_debt\n",
       "0     rate_real_estate   7.464567\n",
       "1  rate_purchase_house   6.884952\n",
       "2    rate_purchase_car   9.333643\n",
       "3       rate_education   9.217738\n",
       "4         rate_wedding   7.969152"
      ]
     },
     "execution_count": 73,
     "metadata": {},
     "output_type": "execute_result"
    }
   ],
   "source": [
    "# Consultando los porcentajes de tasa de incumplimiento para cada propósito del crédito\n",
    "\n",
    "ev_deb_purpose = db_clasification.groupby('debt')['purpose'].value_counts()\n",
    "ev_deb_purpose\n",
    "# Calcular la tasa de incumplimiento basada en el nivel de ingresos\n",
    "\n",
    "def porcentaje(value0, value1):\n",
    "    debt1 = ev_deb_purpose[1][value1]\n",
    "    total_purpose = ev_deb_purpose[0][value0] + ev_deb_purpose[1][value1]\n",
    "    rate = debt1 / total_purpose *100\n",
    "    return rate\n",
    "\n",
    "rate_real_estate = porcentaje(0,0)\n",
    "rate_purchase_house = porcentaje(1,3)\n",
    "rate_purchase_car = porcentaje(2,1)\n",
    "rate_education = porcentaje(3,2)\n",
    "rate_wedding = porcentaje(4,4)\n",
    "\n",
    "rate = [rate_real_estate, rate_purchase_house, rate_purchase_car, rate_education, rate_wedding]\n",
    "data = {\n",
    "    'purpose' : ['rate_real_estate', 'rate_purchase_house', 'rate_purchase_car', 'rate_education', 'rate_wedding'],\n",
    "    'rate_debt':rate\n",
    "}\n",
    "    \n",
    "rate_purpose_table = pd.DataFrame(data)\n",
    "rate_purpose_table"
   ]
  },
  {
   "cell_type": "markdown",
   "metadata": {},
   "source": [
    "**Conclusión**\n",
    "\n",
    "Por último, con base en la tabla anterior se observa que por porcentaje el grupo que más es probable que incumpla con el pago de una deuda es el grupo cuyo propósito de préstamo fue el comprarse un carro (**9.33 %**) y para su educación (**9.22 %**), mientras que para aquellos que hayan solicitado con el objativo de comprar una casa (**6.88 %**) o invertir en bienes raíces (**7.46 %**) es más probable que terminen de pagar el préstamo de manera oportuna."
   ]
  },
  {
   "cell_type": "markdown",
   "metadata": {},
   "source": [
    "# Conclusión general \n",
    "\n",
    "Se hizo un filtrado y limpieza de datos con los valores ausentes y valores erróneos, como días trabajados en coma flotante y en negativo o en edad cero; se minimizaron los valores únicos al modificar el mismo concepto de valor a formato `snake_case`; se realizó la imputación de datos de ingresos totales y dpias trabajados utilizando la media o mediana según haya sido la mejojr opción; finalmente, se realizó la categorización de grupos en forma de grupos de edad y en grupos dependientes de sus ingresos.\n",
    "\n",
    "En la comparativa de propósitos las conclusiones son las siguientes:\n",
    "\n",
    "- El tener hijos aumenta alrededor de **1.5 %** la probabilidad de que el clinete no pague el préstamos.\n",
    "- Se infiere que personas solteras `unmarried` son el grupo de estado civil que es más probable a NO pagar su deuda, mientras que las personas viudas `widow_/_widower` es más probable que sí paguen un préstamo.\n",
    "- El grupo de personas con ingresos entre **10 000** hasta **30 000** mensuales son las más probables de que incumplan con el pago total de la deuda, estos grupos tienen una tasa de incumplimiento de aproximadamente un **8.5 %**.\n",
    "- Existe una relación entre el propósito de préstamo con el incumplimiento de su pago; el grupo que más es probable que incumpla con el pago de una deuda es el grupo cuyo propósito de préstamo fue el comprarse un carro (**9.33 %**) y para su educación (**9.22 %**), mientras que para aquellos que hayan solicitado con el objativo de comprar una casa (**6.88 %**) o invertir en bienes raíces (**7.46 %**) es más probable que terminen de pagar el préstamo de manera oportuna.\n",
    "\n",
    "Por último, categóricamente hablando los valores más significativos para el incumplimiento de un préstamo en el peor escenario posible sería:\n",
    "\n",
    "- Cliente con más de 4 hijos.\n",
    "- Cliente soltero.\n",
    "- Ingresos mensuales entre 10 000 y 30 000.\n",
    "- Su propósito es comprar un carro."
   ]
  }
 ],
 "metadata": {
  "ExecuteTimeLog": [
   {
    "duration": 2741,
    "start_time": "2021-10-21T01:08:49.480Z"
   },
   {
    "duration": 52,
    "start_time": "2021-10-21T01:08:53.315Z"
   },
   {
    "duration": 49,
    "start_time": "2021-10-21T01:08:57.432Z"
   },
   {
    "duration": 70,
    "start_time": "2021-10-21T01:09:07.706Z"
   }
  ],
  "kernelspec": {
   "display_name": "Python 3 (ipykernel)",
   "language": "python",
   "name": "python3"
  },
  "language_info": {
   "codemirror_mode": {
    "name": "ipython",
    "version": 3
   },
   "file_extension": ".py",
   "mimetype": "text/x-python",
   "name": "python",
   "nbconvert_exporter": "python",
   "pygments_lexer": "ipython3",
   "version": "3.9.13"
  },
  "toc": {
   "base_numbering": 1,
   "nav_menu": {},
   "number_sections": true,
   "sideBar": true,
   "skip_h1_title": true,
   "title_cell": "Table of Contents",
   "title_sidebar": "Contents",
   "toc_cell": false,
   "toc_position": {
    "height": "calc(100% - 180px)",
    "left": "10px",
    "top": "150px",
    "width": "272px"
   },
   "toc_section_display": true,
   "toc_window_display": true
  }
 },
 "nbformat": 4,
 "nbformat_minor": 2
}
